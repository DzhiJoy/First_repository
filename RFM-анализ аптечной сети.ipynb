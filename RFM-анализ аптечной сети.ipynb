{
 "cells": [
  {
   "cell_type": "code",
   "execution_count": 6,
   "id": "789a4aca",
   "metadata": {},
   "outputs": [],
   "source": [
    "import pandas as pd"
   ]
  },
  {
   "cell_type": "markdown",
   "id": "10598e5c",
   "metadata": {},
   "source": [
    "Выгружаем csv-файл с данными, которые взяты из бонусной системы аптечной сети."
   ]
  },
  {
   "cell_type": "code",
   "execution_count": 7,
   "id": "0822a83c",
   "metadata": {},
   "outputs": [],
   "source": [
    "df = pd.read_csv(\n",
    "    'https://gist.githubusercontent.com/andron23/f73a19243564d80a388db2b7b1542fd2/raw/2479b4326f6c8ae13d06060fb8510d04bcf06113/apteka.csv',\n",
    "     sep=';'\n",
    ")"
   ]
  },
  {
   "cell_type": "code",
   "execution_count": 3,
   "id": "1a6bfd97",
   "metadata": {
    "scrolled": true
   },
   "outputs": [
    {
     "data": {
      "text/html": [
       "<div>\n",
       "<style scoped>\n",
       "    .dataframe tbody tr th:only-of-type {\n",
       "        vertical-align: middle;\n",
       "    }\n",
       "\n",
       "    .dataframe tbody tr th {\n",
       "        vertical-align: top;\n",
       "    }\n",
       "\n",
       "    .dataframe thead th {\n",
       "        text-align: right;\n",
       "    }\n",
       "</style>\n",
       "<table border=\"1\" class=\"dataframe\">\n",
       "  <thead>\n",
       "    <tr style=\"text-align: right;\">\n",
       "      <th></th>\n",
       "      <th>datetime</th>\n",
       "      <th>shop</th>\n",
       "      <th>card</th>\n",
       "      <th>bonus_earned</th>\n",
       "      <th>bonus_spent</th>\n",
       "      <th>summ</th>\n",
       "      <th>summ_with_disc</th>\n",
       "      <th>doc_id</th>\n",
       "    </tr>\n",
       "  </thead>\n",
       "  <tbody>\n",
       "    <tr>\n",
       "      <th>0</th>\n",
       "      <td>2021-07-13 12:56:09.000</td>\n",
       "      <td>Аптека 2</td>\n",
       "      <td>2000200195023</td>\n",
       "      <td>51</td>\n",
       "      <td>0</td>\n",
       "      <td>3400</td>\n",
       "      <td>3400</td>\n",
       "      <td>15#2002741#65938#2_29</td>\n",
       "    </tr>\n",
       "    <tr>\n",
       "      <th>1</th>\n",
       "      <td>2021-07-30 10:42:00.000</td>\n",
       "      <td>Аптека 2</td>\n",
       "      <td>2000200193494</td>\n",
       "      <td>57</td>\n",
       "      <td>0</td>\n",
       "      <td>747</td>\n",
       "      <td>747</td>\n",
       "      <td>15#2002972#65955#2_5</td>\n",
       "    </tr>\n",
       "    <tr>\n",
       "      <th>2</th>\n",
       "      <td>2021-10-11 12:55:23.000</td>\n",
       "      <td>Аптека 2</td>\n",
       "      <td>2000200199106</td>\n",
       "      <td>92</td>\n",
       "      <td>253</td>\n",
       "      <td>3077</td>\n",
       "      <td>3077</td>\n",
       "      <td>15#2004060#66028#2_29</td>\n",
       "    </tr>\n",
       "    <tr>\n",
       "      <th>3</th>\n",
       "      <td>2021-10-14 14:48:56.000</td>\n",
       "      <td>Аптека 2</td>\n",
       "      <td>2000200168768</td>\n",
       "      <td>1</td>\n",
       "      <td>0</td>\n",
       "      <td>54</td>\n",
       "      <td>54</td>\n",
       "      <td>15#2004107#66031#2_57</td>\n",
       "    </tr>\n",
       "    <tr>\n",
       "      <th>4</th>\n",
       "      <td>2021-10-20 11:09:39.000</td>\n",
       "      <td>Аптека 2</td>\n",
       "      <td>2000200226314</td>\n",
       "      <td>101</td>\n",
       "      <td>0</td>\n",
       "      <td>1733</td>\n",
       "      <td>1733</td>\n",
       "      <td>15#2004192#66037#2_16</td>\n",
       "    </tr>\n",
       "  </tbody>\n",
       "</table>\n",
       "</div>"
      ],
      "text/plain": [
       "                  datetime      shop           card  bonus_earned  \\\n",
       "0  2021-07-13 12:56:09.000  Аптека 2  2000200195023            51   \n",
       "1  2021-07-30 10:42:00.000  Аптека 2  2000200193494            57   \n",
       "2  2021-10-11 12:55:23.000  Аптека 2  2000200199106            92   \n",
       "3  2021-10-14 14:48:56.000  Аптека 2  2000200168768             1   \n",
       "4  2021-10-20 11:09:39.000  Аптека 2  2000200226314           101   \n",
       "\n",
       "   bonus_spent  summ  summ_with_disc                 doc_id  \n",
       "0            0  3400            3400  15#2002741#65938#2_29  \n",
       "1            0   747             747   15#2002972#65955#2_5  \n",
       "2          253  3077            3077  15#2004060#66028#2_29  \n",
       "3            0    54              54  15#2004107#66031#2_57  \n",
       "4            0  1733            1733  15#2004192#66037#2_16  "
      ]
     },
     "execution_count": 3,
     "metadata": {},
     "output_type": "execute_result"
    }
   ],
   "source": [
    "df.head()"
   ]
  },
  {
   "cell_type": "markdown",
   "id": "aad69183",
   "metadata": {},
   "source": [
    "datetime-дата и время покупки\n",
    "shop-название аптеки\n",
    "card-номер карты клиента\n",
    "bonus_earned-сколько заработано бонусов\n",
    "bonus_spent-сколько списано бонусов\n",
    "summ-сумма покупки\n",
    "summ_with_disc-сумма покупки за вычетом скидок\n",
    "doc_id-номер чека\n",
    "\n",
    "Нам нужны будут столбцы date_time,card и summ_with_disc."
   ]
  },
  {
   "cell_type": "markdown",
   "id": "8aed05ad",
   "metadata": {},
   "source": [
    "Преобразуем столбец 'datetime' в объекты datetime. \n",
    "Функция pd.to_datetime() преобразует значения в столбце 'datetime' в формат datetime, \n",
    "что позволяет работать с датами и временем в DataFrame."
   ]
  },
  {
   "cell_type": "code",
   "execution_count": 8,
   "id": "86099b8a",
   "metadata": {},
   "outputs": [],
   "source": [
    "df['datetime'] = pd.to_datetime(df['datetime'])"
   ]
  },
  {
   "cell_type": "code",
   "execution_count": 11,
   "id": "34c62798",
   "metadata": {},
   "outputs": [
    {
     "name": "stdout",
     "output_type": "stream",
     "text": [
      "<class 'pandas.core.frame.DataFrame'>\n",
      "RangeIndex: 38486 entries, 0 to 38485\n",
      "Data columns (total 8 columns):\n",
      " #   Column          Non-Null Count  Dtype         \n",
      "---  ------          --------------  -----         \n",
      " 0   datetime        38486 non-null  datetime64[ns]\n",
      " 1   shop            38486 non-null  object        \n",
      " 2   card            38486 non-null  object        \n",
      " 3   bonus_earned    38486 non-null  int64         \n",
      " 4   bonus_spent     38486 non-null  int64         \n",
      " 5   summ            38486 non-null  int64         \n",
      " 6   summ_with_disc  38486 non-null  int64         \n",
      " 7   doc_id          38486 non-null  object        \n",
      "dtypes: datetime64[ns](1), int64(4), object(3)\n",
      "memory usage: 2.3+ MB\n"
     ]
    }
   ],
   "source": [
    "df.info() #посмотрим какие есть типы данных"
   ]
  },
  {
   "cell_type": "markdown",
   "id": "406e8088",
   "metadata": {},
   "source": [
    "Далее по столбцу card удалим записи, когда касса была в оффлайн режиме.\n",
    "Этот код фильтрует строки в DataFrame df, оставляя только те строки, в которых значение в столбце 'card' начинается с '2000'. Функция str.startswith('2000') проверяет, начинается ли значение в столбце 'card' с указанной строки '2000', и возвращает булевое значение (True или False) для каждой строки. Затем оператор индексации [] используется для выбора только строк, для которых условие истинно. Таким образом, после выполнения этой строки кода в DataFrame df будут оставлены только строки, в которых значение в столбце 'card' начинается с '2000'."
   ]
  },
  {
   "cell_type": "code",
   "execution_count": 12,
   "id": "216ca6c6",
   "metadata": {},
   "outputs": [],
   "source": [
    "df = df[df['card'].str.startswith('2000')]"
   ]
  },
  {
   "cell_type": "markdown",
   "id": "199cdd17",
   "metadata": {},
   "source": [
    "Далее код сортирует DataFrame df сначала по столбцу 'card', а затем по столбцу 'datetime' в порядке возрастания. Функция sort_values() используется для сортировки DataFrame по указанным столбцам.\n",
    "После выполнения этой строки кода DataFrame df будет отсортирован по значениям в столбцах 'card' и 'datetime'. Вывод команды df покажет отсортированный DataFrame."
   ]
  },
  {
   "cell_type": "code",
   "execution_count": 13,
   "id": "8473ade3",
   "metadata": {
    "scrolled": true
   },
   "outputs": [
    {
     "data": {
      "text/html": [
       "<div>\n",
       "<style scoped>\n",
       "    .dataframe tbody tr th:only-of-type {\n",
       "        vertical-align: middle;\n",
       "    }\n",
       "\n",
       "    .dataframe tbody tr th {\n",
       "        vertical-align: top;\n",
       "    }\n",
       "\n",
       "    .dataframe thead th {\n",
       "        text-align: right;\n",
       "    }\n",
       "</style>\n",
       "<table border=\"1\" class=\"dataframe\">\n",
       "  <thead>\n",
       "    <tr style=\"text-align: right;\">\n",
       "      <th></th>\n",
       "      <th>datetime</th>\n",
       "      <th>shop</th>\n",
       "      <th>card</th>\n",
       "      <th>bonus_earned</th>\n",
       "      <th>bonus_spent</th>\n",
       "      <th>summ</th>\n",
       "      <th>summ_with_disc</th>\n",
       "      <th>doc_id</th>\n",
       "    </tr>\n",
       "  </thead>\n",
       "  <tbody>\n",
       "    <tr>\n",
       "      <th>641</th>\n",
       "      <td>2021-07-19 09:37:20</td>\n",
       "      <td>Аптека 2</td>\n",
       "      <td>2000200150015</td>\n",
       "      <td>0</td>\n",
       "      <td>1</td>\n",
       "      <td>21</td>\n",
       "      <td>21</td>\n",
       "      <td>15#2002822#65944#2_6</td>\n",
       "    </tr>\n",
       "    <tr>\n",
       "      <th>16455</th>\n",
       "      <td>2021-12-07 20:25:21</td>\n",
       "      <td>Аптека 2</td>\n",
       "      <td>2000200150022</td>\n",
       "      <td>30</td>\n",
       "      <td>0</td>\n",
       "      <td>1351</td>\n",
       "      <td>1351</td>\n",
       "      <td>15#2004825#66085#2_140</td>\n",
       "    </tr>\n",
       "    <tr>\n",
       "      <th>8751</th>\n",
       "      <td>2021-10-05 16:31:25</td>\n",
       "      <td>Аптека 2</td>\n",
       "      <td>2000200150053</td>\n",
       "      <td>15</td>\n",
       "      <td>0</td>\n",
       "      <td>649</td>\n",
       "      <td>649</td>\n",
       "      <td>15#2003981#66022#2_65</td>\n",
       "    </tr>\n",
       "    <tr>\n",
       "      <th>28718</th>\n",
       "      <td>2022-03-17 20:50:23</td>\n",
       "      <td>Аптека 7</td>\n",
       "      <td>2000200150053</td>\n",
       "      <td>1</td>\n",
       "      <td>0</td>\n",
       "      <td>64</td>\n",
       "      <td>64</td>\n",
       "      <td>15#11002624#66185#11_177</td>\n",
       "    </tr>\n",
       "    <tr>\n",
       "      <th>834</th>\n",
       "      <td>2021-07-21 11:10:25</td>\n",
       "      <td>Аптека 2</td>\n",
       "      <td>2000200150091</td>\n",
       "      <td>22</td>\n",
       "      <td>0</td>\n",
       "      <td>746</td>\n",
       "      <td>746</td>\n",
       "      <td>15#2002857#65946#2_4</td>\n",
       "    </tr>\n",
       "    <tr>\n",
       "      <th>...</th>\n",
       "      <td>...</td>\n",
       "      <td>...</td>\n",
       "      <td>...</td>\n",
       "      <td>...</td>\n",
       "      <td>...</td>\n",
       "      <td>...</td>\n",
       "      <td>...</td>\n",
       "      <td>...</td>\n",
       "    </tr>\n",
       "    <tr>\n",
       "      <th>38150</th>\n",
       "      <td>2022-06-07 17:08:45</td>\n",
       "      <td>Аптека 2</td>\n",
       "      <td>2000200259015</td>\n",
       "      <td>69</td>\n",
       "      <td>0</td>\n",
       "      <td>664</td>\n",
       "      <td>664</td>\n",
       "      <td>15#2003527#66267#2_73</td>\n",
       "    </tr>\n",
       "    <tr>\n",
       "      <th>38199</th>\n",
       "      <td>2022-06-07 19:19:12</td>\n",
       "      <td>Аптека 2</td>\n",
       "      <td>2000200259381</td>\n",
       "      <td>53</td>\n",
       "      <td>0</td>\n",
       "      <td>245</td>\n",
       "      <td>245</td>\n",
       "      <td>15#2003527#66267#2_109</td>\n",
       "    </tr>\n",
       "    <tr>\n",
       "      <th>38147</th>\n",
       "      <td>2022-06-07 19:37:59</td>\n",
       "      <td>Аптека 2</td>\n",
       "      <td>2000200259398</td>\n",
       "      <td>65</td>\n",
       "      <td>0</td>\n",
       "      <td>395</td>\n",
       "      <td>395</td>\n",
       "      <td>15#2003527#66267#2_113</td>\n",
       "    </tr>\n",
       "    <tr>\n",
       "      <th>38226</th>\n",
       "      <td>2022-06-08 09:46:52</td>\n",
       "      <td>Аптека 2</td>\n",
       "      <td>2000200259404</td>\n",
       "      <td>73</td>\n",
       "      <td>0</td>\n",
       "      <td>784</td>\n",
       "      <td>784</td>\n",
       "      <td>15#2003546#66268#2_7</td>\n",
       "    </tr>\n",
       "    <tr>\n",
       "      <th>37379</th>\n",
       "      <td>2022-06-01 12:34:41</td>\n",
       "      <td>Аптека 2</td>\n",
       "      <td>2000200259435</td>\n",
       "      <td>122</td>\n",
       "      <td>0</td>\n",
       "      <td>2431</td>\n",
       "      <td>2431</td>\n",
       "      <td>15#2003426#66261#2_35</td>\n",
       "    </tr>\n",
       "  </tbody>\n",
       "</table>\n",
       "<p>21075 rows × 8 columns</p>\n",
       "</div>"
      ],
      "text/plain": [
       "                 datetime      shop           card  bonus_earned  bonus_spent  \\\n",
       "641   2021-07-19 09:37:20  Аптека 2  2000200150015             0            1   \n",
       "16455 2021-12-07 20:25:21  Аптека 2  2000200150022            30            0   \n",
       "8751  2021-10-05 16:31:25  Аптека 2  2000200150053            15            0   \n",
       "28718 2022-03-17 20:50:23  Аптека 7  2000200150053             1            0   \n",
       "834   2021-07-21 11:10:25  Аптека 2  2000200150091            22            0   \n",
       "...                   ...       ...            ...           ...          ...   \n",
       "38150 2022-06-07 17:08:45  Аптека 2  2000200259015            69            0   \n",
       "38199 2022-06-07 19:19:12  Аптека 2  2000200259381            53            0   \n",
       "38147 2022-06-07 19:37:59  Аптека 2  2000200259398            65            0   \n",
       "38226 2022-06-08 09:46:52  Аптека 2  2000200259404            73            0   \n",
       "37379 2022-06-01 12:34:41  Аптека 2  2000200259435           122            0   \n",
       "\n",
       "       summ  summ_with_disc                    doc_id  \n",
       "641      21              21      15#2002822#65944#2_6  \n",
       "16455  1351            1351    15#2004825#66085#2_140  \n",
       "8751    649             649     15#2003981#66022#2_65  \n",
       "28718    64              64  15#11002624#66185#11_177  \n",
       "834     746             746      15#2002857#65946#2_4  \n",
       "...     ...             ...                       ...  \n",
       "38150   664             664     15#2003527#66267#2_73  \n",
       "38199   245             245    15#2003527#66267#2_109  \n",
       "38147   395             395    15#2003527#66267#2_113  \n",
       "38226   784             784      15#2003546#66268#2_7  \n",
       "37379  2431            2431     15#2003426#66261#2_35  \n",
       "\n",
       "[21075 rows x 8 columns]"
      ]
     },
     "execution_count": 13,
     "metadata": {},
     "output_type": "execute_result"
    }
   ],
   "source": [
    "df = df.sort_values(['card', 'datetime'])\n",
    "df"
   ]
  },
  {
   "cell_type": "code",
   "execution_count": 14,
   "id": "74afaf50",
   "metadata": {},
   "outputs": [
    {
     "data": {
      "text/plain": [
       "Timestamp('2022-06-09 21:49:45')"
      ]
     },
     "execution_count": 14,
     "metadata": {},
     "output_type": "execute_result"
    }
   ],
   "source": [
    "max(df['datetime']) #посмотрим дату самой давней покупки"
   ]
  },
  {
   "cell_type": "markdown",
   "id": "8895cb48",
   "metadata": {},
   "source": [
    "Далее группируемся по полю card и считаем агрегирующие функции:сумма, количество и дату последней покупки.\n",
    "Датафрейм назовём df2 и в конце сбросим индексы, чтобы названия новых столбцов корректно встали."
   ]
  },
  {
   "cell_type": "code",
   "execution_count": 19,
   "id": "56dc48f5",
   "metadata": {},
   "outputs": [],
   "source": [
    "df2 = df.groupby('card').agg(\n",
    "    purchase_sum = ('summ_with_disc', 'sum'),\n",
    "    purchase_amount = ('summ_with_disc', 'count'),\n",
    "    last_purchase = ('datetime', 'last'),\n",
    ").reset_index()"
   ]
  },
  {
   "cell_type": "code",
   "execution_count": 20,
   "id": "0415e1cb",
   "metadata": {},
   "outputs": [
    {
     "data": {
      "text/html": [
       "<div>\n",
       "<style scoped>\n",
       "    .dataframe tbody tr th:only-of-type {\n",
       "        vertical-align: middle;\n",
       "    }\n",
       "\n",
       "    .dataframe tbody tr th {\n",
       "        vertical-align: top;\n",
       "    }\n",
       "\n",
       "    .dataframe thead th {\n",
       "        text-align: right;\n",
       "    }\n",
       "</style>\n",
       "<table border=\"1\" class=\"dataframe\">\n",
       "  <thead>\n",
       "    <tr style=\"text-align: right;\">\n",
       "      <th></th>\n",
       "      <th>datetime</th>\n",
       "      <th>shop</th>\n",
       "      <th>card</th>\n",
       "      <th>bonus_earned</th>\n",
       "      <th>bonus_spent</th>\n",
       "      <th>summ</th>\n",
       "      <th>summ_with_disc</th>\n",
       "      <th>doc_id</th>\n",
       "    </tr>\n",
       "  </thead>\n",
       "  <tbody>\n",
       "    <tr>\n",
       "      <th>834</th>\n",
       "      <td>2021-07-21 11:10:25</td>\n",
       "      <td>Аптека 2</td>\n",
       "      <td>2000200150091</td>\n",
       "      <td>22</td>\n",
       "      <td>0</td>\n",
       "      <td>746</td>\n",
       "      <td>746</td>\n",
       "      <td>15#2002857#65946#2_4</td>\n",
       "    </tr>\n",
       "    <tr>\n",
       "      <th>12681</th>\n",
       "      <td>2021-11-06 16:37:26</td>\n",
       "      <td>Аптека 2</td>\n",
       "      <td>2000200150091</td>\n",
       "      <td>45</td>\n",
       "      <td>0</td>\n",
       "      <td>1509</td>\n",
       "      <td>1509</td>\n",
       "      <td>15#2004425#66054#2_53</td>\n",
       "    </tr>\n",
       "    <tr>\n",
       "      <th>12856</th>\n",
       "      <td>2021-11-08 12:12:17</td>\n",
       "      <td>Аптека 2</td>\n",
       "      <td>2000200150091</td>\n",
       "      <td>20</td>\n",
       "      <td>67</td>\n",
       "      <td>753</td>\n",
       "      <td>753</td>\n",
       "      <td>15#2004429#66056#2_24</td>\n",
       "    </tr>\n",
       "    <tr>\n",
       "      <th>35317</th>\n",
       "      <td>2022-05-15 11:58:24</td>\n",
       "      <td>Аптека 11</td>\n",
       "      <td>2000200150091</td>\n",
       "      <td>10</td>\n",
       "      <td>0</td>\n",
       "      <td>342</td>\n",
       "      <td>342</td>\n",
       "      <td>15#18001380#66244#18_32</td>\n",
       "    </tr>\n",
       "    <tr>\n",
       "      <th>37842</th>\n",
       "      <td>2022-06-05 11:49:47</td>\n",
       "      <td>Аптека 2</td>\n",
       "      <td>2000200150091</td>\n",
       "      <td>5</td>\n",
       "      <td>0</td>\n",
       "      <td>199</td>\n",
       "      <td>199</td>\n",
       "      <td>15#2003499#66265#2_22</td>\n",
       "    </tr>\n",
       "  </tbody>\n",
       "</table>\n",
       "</div>"
      ],
      "text/plain": [
       "                 datetime       shop           card  bonus_earned  \\\n",
       "834   2021-07-21 11:10:25   Аптека 2  2000200150091            22   \n",
       "12681 2021-11-06 16:37:26   Аптека 2  2000200150091            45   \n",
       "12856 2021-11-08 12:12:17   Аптека 2  2000200150091            20   \n",
       "35317 2022-05-15 11:58:24  Аптека 11  2000200150091            10   \n",
       "37842 2022-06-05 11:49:47   Аптека 2  2000200150091             5   \n",
       "\n",
       "       bonus_spent  summ  summ_with_disc                   doc_id  \n",
       "834              0   746             746     15#2002857#65946#2_4  \n",
       "12681            0  1509            1509    15#2004425#66054#2_53  \n",
       "12856           67   753             753    15#2004429#66056#2_24  \n",
       "35317            0   342             342  15#18001380#66244#18_32  \n",
       "37842            0   199             199    15#2003499#66265#2_22  "
      ]
     },
     "execution_count": 20,
     "metadata": {},
     "output_type": "execute_result"
    }
   ],
   "source": [
    "df[df['card'] == '2000200150091']"
   ]
  },
  {
   "cell_type": "code",
   "execution_count": 21,
   "id": "930f2289",
   "metadata": {},
   "outputs": [
    {
     "data": {
      "text/html": [
       "<div>\n",
       "<style scoped>\n",
       "    .dataframe tbody tr th:only-of-type {\n",
       "        vertical-align: middle;\n",
       "    }\n",
       "\n",
       "    .dataframe tbody tr th {\n",
       "        vertical-align: top;\n",
       "    }\n",
       "\n",
       "    .dataframe thead th {\n",
       "        text-align: right;\n",
       "    }\n",
       "</style>\n",
       "<table border=\"1\" class=\"dataframe\">\n",
       "  <thead>\n",
       "    <tr style=\"text-align: right;\">\n",
       "      <th></th>\n",
       "      <th>card</th>\n",
       "      <th>purchase_sum</th>\n",
       "      <th>purchase_amount</th>\n",
       "      <th>last_purchase</th>\n",
       "    </tr>\n",
       "  </thead>\n",
       "  <tbody>\n",
       "    <tr>\n",
       "      <th>0</th>\n",
       "      <td>2000200150015</td>\n",
       "      <td>21</td>\n",
       "      <td>1</td>\n",
       "      <td>2021-07-19 09:37:20</td>\n",
       "    </tr>\n",
       "    <tr>\n",
       "      <th>1</th>\n",
       "      <td>2000200150022</td>\n",
       "      <td>1351</td>\n",
       "      <td>1</td>\n",
       "      <td>2021-12-07 20:25:21</td>\n",
       "    </tr>\n",
       "    <tr>\n",
       "      <th>2</th>\n",
       "      <td>2000200150053</td>\n",
       "      <td>713</td>\n",
       "      <td>2</td>\n",
       "      <td>2022-03-17 20:50:23</td>\n",
       "    </tr>\n",
       "    <tr>\n",
       "      <th>3</th>\n",
       "      <td>2000200150091</td>\n",
       "      <td>3549</td>\n",
       "      <td>5</td>\n",
       "      <td>2022-06-05 11:49:47</td>\n",
       "    </tr>\n",
       "    <tr>\n",
       "      <th>4</th>\n",
       "      <td>2000200150107</td>\n",
       "      <td>1735</td>\n",
       "      <td>3</td>\n",
       "      <td>2022-06-02 17:54:19</td>\n",
       "    </tr>\n",
       "    <tr>\n",
       "      <th>...</th>\n",
       "      <td>...</td>\n",
       "      <td>...</td>\n",
       "      <td>...</td>\n",
       "      <td>...</td>\n",
       "    </tr>\n",
       "    <tr>\n",
       "      <th>5921</th>\n",
       "      <td>2000200259015</td>\n",
       "      <td>664</td>\n",
       "      <td>1</td>\n",
       "      <td>2022-06-07 17:08:45</td>\n",
       "    </tr>\n",
       "    <tr>\n",
       "      <th>5922</th>\n",
       "      <td>2000200259381</td>\n",
       "      <td>245</td>\n",
       "      <td>1</td>\n",
       "      <td>2022-06-07 19:19:12</td>\n",
       "    </tr>\n",
       "    <tr>\n",
       "      <th>5923</th>\n",
       "      <td>2000200259398</td>\n",
       "      <td>395</td>\n",
       "      <td>1</td>\n",
       "      <td>2022-06-07 19:37:59</td>\n",
       "    </tr>\n",
       "    <tr>\n",
       "      <th>5924</th>\n",
       "      <td>2000200259404</td>\n",
       "      <td>784</td>\n",
       "      <td>1</td>\n",
       "      <td>2022-06-08 09:46:52</td>\n",
       "    </tr>\n",
       "    <tr>\n",
       "      <th>5925</th>\n",
       "      <td>2000200259435</td>\n",
       "      <td>2431</td>\n",
       "      <td>1</td>\n",
       "      <td>2022-06-01 12:34:41</td>\n",
       "    </tr>\n",
       "  </tbody>\n",
       "</table>\n",
       "<p>5926 rows × 4 columns</p>\n",
       "</div>"
      ],
      "text/plain": [
       "               card  purchase_sum  purchase_amount       last_purchase\n",
       "0     2000200150015            21                1 2021-07-19 09:37:20\n",
       "1     2000200150022          1351                1 2021-12-07 20:25:21\n",
       "2     2000200150053           713                2 2022-03-17 20:50:23\n",
       "3     2000200150091          3549                5 2022-06-05 11:49:47\n",
       "4     2000200150107          1735                3 2022-06-02 17:54:19\n",
       "...             ...           ...              ...                 ...\n",
       "5921  2000200259015           664                1 2022-06-07 17:08:45\n",
       "5922  2000200259381           245                1 2022-06-07 19:19:12\n",
       "5923  2000200259398           395                1 2022-06-07 19:37:59\n",
       "5924  2000200259404           784                1 2022-06-08 09:46:52\n",
       "5925  2000200259435          2431                1 2022-06-01 12:34:41\n",
       "\n",
       "[5926 rows x 4 columns]"
      ]
     },
     "execution_count": 21,
     "metadata": {},
     "output_type": "execute_result"
    }
   ],
   "source": [
    "df2"
   ]
  },
  {
   "cell_type": "code",
   "execution_count": 23,
   "id": "58d1ebf9",
   "metadata": {},
   "outputs": [],
   "source": [
    "df2['days_since_last_purchase'] = (max(df['datetime']) - df2['last_purchase']).dt.days #считаем кол-во дней с последней покупки на дату RFM-анализа(это максимальная дата в датафрейме изначально)."
   ]
  },
  {
   "cell_type": "code",
   "execution_count": 24,
   "id": "831212a5",
   "metadata": {},
   "outputs": [
    {
     "data": {
      "text/html": [
       "<div>\n",
       "<style scoped>\n",
       "    .dataframe tbody tr th:only-of-type {\n",
       "        vertical-align: middle;\n",
       "    }\n",
       "\n",
       "    .dataframe tbody tr th {\n",
       "        vertical-align: top;\n",
       "    }\n",
       "\n",
       "    .dataframe thead th {\n",
       "        text-align: right;\n",
       "    }\n",
       "</style>\n",
       "<table border=\"1\" class=\"dataframe\">\n",
       "  <thead>\n",
       "    <tr style=\"text-align: right;\">\n",
       "      <th></th>\n",
       "      <th>card</th>\n",
       "      <th>purchase_sum</th>\n",
       "      <th>purchase_amount</th>\n",
       "      <th>last_purchase</th>\n",
       "      <th>days_since_last_purchase</th>\n",
       "    </tr>\n",
       "  </thead>\n",
       "  <tbody>\n",
       "    <tr>\n",
       "      <th>0</th>\n",
       "      <td>2000200150015</td>\n",
       "      <td>21</td>\n",
       "      <td>1</td>\n",
       "      <td>2021-07-19 09:37:20</td>\n",
       "      <td>325</td>\n",
       "    </tr>\n",
       "    <tr>\n",
       "      <th>1</th>\n",
       "      <td>2000200150022</td>\n",
       "      <td>1351</td>\n",
       "      <td>1</td>\n",
       "      <td>2021-12-07 20:25:21</td>\n",
       "      <td>184</td>\n",
       "    </tr>\n",
       "    <tr>\n",
       "      <th>2</th>\n",
       "      <td>2000200150053</td>\n",
       "      <td>713</td>\n",
       "      <td>2</td>\n",
       "      <td>2022-03-17 20:50:23</td>\n",
       "      <td>84</td>\n",
       "    </tr>\n",
       "    <tr>\n",
       "      <th>3</th>\n",
       "      <td>2000200150091</td>\n",
       "      <td>3549</td>\n",
       "      <td>5</td>\n",
       "      <td>2022-06-05 11:49:47</td>\n",
       "      <td>4</td>\n",
       "    </tr>\n",
       "    <tr>\n",
       "      <th>4</th>\n",
       "      <td>2000200150107</td>\n",
       "      <td>1735</td>\n",
       "      <td>3</td>\n",
       "      <td>2022-06-02 17:54:19</td>\n",
       "      <td>7</td>\n",
       "    </tr>\n",
       "    <tr>\n",
       "      <th>...</th>\n",
       "      <td>...</td>\n",
       "      <td>...</td>\n",
       "      <td>...</td>\n",
       "      <td>...</td>\n",
       "      <td>...</td>\n",
       "    </tr>\n",
       "    <tr>\n",
       "      <th>5921</th>\n",
       "      <td>2000200259015</td>\n",
       "      <td>664</td>\n",
       "      <td>1</td>\n",
       "      <td>2022-06-07 17:08:45</td>\n",
       "      <td>2</td>\n",
       "    </tr>\n",
       "    <tr>\n",
       "      <th>5922</th>\n",
       "      <td>2000200259381</td>\n",
       "      <td>245</td>\n",
       "      <td>1</td>\n",
       "      <td>2022-06-07 19:19:12</td>\n",
       "      <td>2</td>\n",
       "    </tr>\n",
       "    <tr>\n",
       "      <th>5923</th>\n",
       "      <td>2000200259398</td>\n",
       "      <td>395</td>\n",
       "      <td>1</td>\n",
       "      <td>2022-06-07 19:37:59</td>\n",
       "      <td>2</td>\n",
       "    </tr>\n",
       "    <tr>\n",
       "      <th>5924</th>\n",
       "      <td>2000200259404</td>\n",
       "      <td>784</td>\n",
       "      <td>1</td>\n",
       "      <td>2022-06-08 09:46:52</td>\n",
       "      <td>1</td>\n",
       "    </tr>\n",
       "    <tr>\n",
       "      <th>5925</th>\n",
       "      <td>2000200259435</td>\n",
       "      <td>2431</td>\n",
       "      <td>1</td>\n",
       "      <td>2022-06-01 12:34:41</td>\n",
       "      <td>8</td>\n",
       "    </tr>\n",
       "  </tbody>\n",
       "</table>\n",
       "<p>5926 rows × 5 columns</p>\n",
       "</div>"
      ],
      "text/plain": [
       "               card  purchase_sum  purchase_amount       last_purchase  \\\n",
       "0     2000200150015            21                1 2021-07-19 09:37:20   \n",
       "1     2000200150022          1351                1 2021-12-07 20:25:21   \n",
       "2     2000200150053           713                2 2022-03-17 20:50:23   \n",
       "3     2000200150091          3549                5 2022-06-05 11:49:47   \n",
       "4     2000200150107          1735                3 2022-06-02 17:54:19   \n",
       "...             ...           ...              ...                 ...   \n",
       "5921  2000200259015           664                1 2022-06-07 17:08:45   \n",
       "5922  2000200259381           245                1 2022-06-07 19:19:12   \n",
       "5923  2000200259398           395                1 2022-06-07 19:37:59   \n",
       "5924  2000200259404           784                1 2022-06-08 09:46:52   \n",
       "5925  2000200259435          2431                1 2022-06-01 12:34:41   \n",
       "\n",
       "      days_since_last_purchase  \n",
       "0                          325  \n",
       "1                          184  \n",
       "2                           84  \n",
       "3                            4  \n",
       "4                            7  \n",
       "...                        ...  \n",
       "5921                         2  \n",
       "5922                         2  \n",
       "5923                         2  \n",
       "5924                         1  \n",
       "5925                         8  \n",
       "\n",
       "[5926 rows x 5 columns]"
      ]
     },
     "execution_count": 24,
     "metadata": {},
     "output_type": "execute_result"
    }
   ],
   "source": [
    "df2"
   ]
  },
  {
   "cell_type": "code",
   "execution_count": 26,
   "id": "572d68c7",
   "metadata": {},
   "outputs": [],
   "source": [
    "import seaborn as sns #подгружаем библиотеку"
   ]
  },
  {
   "cell_type": "code",
   "execution_count": 28,
   "id": "21de8f09",
   "metadata": {},
   "outputs": [
    {
     "data": {
      "image/png": "[encoded data removed]",
      "text/plain": [
       "<Figure size 640x480 with 1 Axes>"
      ]
     },
     "metadata": {},
     "output_type": "display_data"
    }
   ],
   "source": [
    "sns.violinplot(df2['purchase_sum']); #построим график \"скрипичный ключ\" по суммам покупок"
   ]
  },
  {
   "cell_type": "code",
   "execution_count": 30,
   "id": "f6902a6e",
   "metadata": {},
   "outputs": [],
   "source": [
    "import numpy as np #подгружаем numpy"
   ]
  },
  {
   "cell_type": "code",
   "execution_count": 35,
   "id": "c5ae2a00",
   "metadata": {},
   "outputs": [],
   "source": [
    "quantiles = np.arange(0.1, 1.1, 0.1) #создадим список с шагом 0.1, чтобы посчитать потом перцентили"
   ]
  },
  {
   "cell_type": "code",
   "execution_count": 36,
   "id": "25277bbf",
   "metadata": {},
   "outputs": [
    {
     "data": {
      "text/plain": [
       "array([0.1, 0.2, 0.3, 0.4, 0.5, 0.6, 0.7, 0.8, 0.9, 1. ])"
      ]
     },
     "execution_count": 36,
     "metadata": {},
     "output_type": "execute_result"
    }
   ],
   "source": [
    "quantiles #помотрим получившийся массив"
   ]
  },
  {
   "cell_type": "code",
   "execution_count": 41,
   "id": "cc6727dd",
   "metadata": {},
   "outputs": [],
   "source": [
    "quantiles = [round(el, 2) for el in np.arange(0.1, 1.1, 0.1)]\n",
    "x_values = df2['purchase_sum'].quantile(quantiles) #вычисляем квантили для оси у"
   ]
  },
  {
   "cell_type": "code",
   "execution_count": 42,
   "id": "fb415702",
   "metadata": {},
   "outputs": [
    {
     "data": {
      "text/plain": [
       "0.1       405.5\n",
       "0.2       620.0\n",
       "0.3       844.0\n",
       "0.4      1103.0\n",
       "0.5      1470.5\n",
       "0.6      2008.0\n",
       "0.7      2731.0\n",
       "0.8      4078.0\n",
       "0.9      6906.5\n",
       "1.0    162687.0\n",
       "Name: purchase_sum, dtype: float64"
      ]
     },
     "execution_count": 42,
     "metadata": {},
     "output_type": "execute_result"
    }
   ],
   "source": [
    "df2['purchase_sum'].quantile(quantiles) #смотри перцентили по суммам покупок"
   ]
  },
  {
   "cell_type": "code",
   "execution_count": 46,
   "id": "fb87d011",
   "metadata": {},
   "outputs": [],
   "source": [
    "import matplotlib.pyplot as plt #подгружаем матплотлиб,чтобы посмотреть графики по всем трём показателям"
   ]
  },
  {
   "cell_type": "code",
   "execution_count": 44,
   "id": "73e4fff5",
   "metadata": {},
   "outputs": [
    {
     "data": {
      "image/png": "[encoded data removed]",
      "text/plain": [
       "<Figure size 640x480 with 1 Axes>"
      ]
     },
     "metadata": {},
     "output_type": "display_data"
    }
   ],
   "source": [
    "ax = sns.barplot(x=x_values, y=quantiles, orient='h')\n",
    "\n",
    "for p in ax.patches:\n",
    "    ax.annotate(f'{p.get_width():.2f}', (p.get_width(), p.get_y() + p.get_height() / 2),\n",
    "                ha='left', va='center', xytext=(5, 0), textcoords='offset points')\n",
    "\n",
    "plt.show() #визуализируем перцентили"
   ]
  },
  {
   "cell_type": "code",
   "execution_count": 45,
   "id": "136e2fac",
   "metadata": {},
   "outputs": [
    {
     "data": {
      "image/png": "[encoded data removed]",
      "text/plain": [
       "<Figure size 640x480 with 1 Axes>"
      ]
     },
     "metadata": {},
     "output_type": "display_data"
    }
   ],
   "source": [
    "quantiles = [round(el, 2) for el in np.arange(0.1, 1.1, 0.1)]\n",
    "x_values = df2['purchase_amount'].quantile(quantiles)\n",
    "\n",
    "ax = sns.barplot(x=x_values, y=quantiles, orient='h')\n",
    "\n",
    "for p in ax.patches:\n",
    "    ax.annotate(f'{p.get_width():.2f}', (p.get_width(), p.get_y() + p.get_height() / 2),\n",
    "                ha='left', va='center', xytext=(5, 0), textcoords='offset points')\n",
    "\n",
    "plt.show()"
   ]
  },
  {
   "cell_type": "code",
   "execution_count": 44,
   "id": "068c74be",
   "metadata": {},
   "outputs": [
    {
     "data": {
      "image/png": "[encoded data removed]",
      "text/plain": [
       "<Figure size 640x480 with 1 Axes>"
      ]
     },
     "metadata": {},
     "output_type": "display_data"
    }
   ],
   "source": [
    "quantiles = [round(el, 2) for el in np.arange(0.1, 1.1, 0.1)]\n",
    "x_values = df2['days_since_last_purchase'].quantile(quantiles)\n",
    "\n",
    "ax = sns.barplot(x=x_values, y=quantiles, orient='h')\n",
    "\n",
    "for p in ax.patches:\n",
    "    ax.annotate(f'{p.get_width():.2f}', (p.get_width(), p.get_y() + p.get_height() / 2),\n",
    "                ha='left', va='center', xytext=(5, 0), textcoords='offset points')\n",
    "\n",
    "plt.show()"
   ]
  },
  {
   "cell_type": "code",
   "execution_count": 47,
   "id": "5ae2aabd",
   "metadata": {},
   "outputs": [],
   "source": [
    "quantiles = [0.33, 0.66] #зададим 33 и 66 - самые оптимальные проценты"
   ]
  },
  {
   "cell_type": "code",
   "execution_count": 48,
   "id": "36c72e37",
   "metadata": {
    "scrolled": true
   },
   "outputs": [
    {
     "data": {
      "text/plain": [
       "0.33     48.0\n",
       "0.66    143.0\n",
       "Name: days_since_last_purchase, dtype: float64"
      ]
     },
     "execution_count": 48,
     "metadata": {},
     "output_type": "execute_result"
    }
   ],
   "source": [
    "df2['days_since_last_purchase'].quantile(quantiles)"
   ]
  },
  {
   "cell_type": "code",
   "execution_count": 49,
   "id": "91cf7814",
   "metadata": {
    "scrolled": true
   },
   "outputs": [
    {
     "data": {
      "text/html": [
       "<div>\n",
       "<style scoped>\n",
       "    .dataframe tbody tr th:only-of-type {\n",
       "        vertical-align: middle;\n",
       "    }\n",
       "\n",
       "    .dataframe tbody tr th {\n",
       "        vertical-align: top;\n",
       "    }\n",
       "\n",
       "    .dataframe thead th {\n",
       "        text-align: right;\n",
       "    }\n",
       "</style>\n",
       "<table border=\"1\" class=\"dataframe\">\n",
       "  <thead>\n",
       "    <tr style=\"text-align: right;\">\n",
       "      <th></th>\n",
       "      <th>card</th>\n",
       "      <th>purchase_sum</th>\n",
       "      <th>purchase_amount</th>\n",
       "      <th>last_purchase</th>\n",
       "      <th>days_since_last_purchase</th>\n",
       "    </tr>\n",
       "  </thead>\n",
       "  <tbody>\n",
       "    <tr>\n",
       "      <th>0</th>\n",
       "      <td>2000200150015</td>\n",
       "      <td>21</td>\n",
       "      <td>1</td>\n",
       "      <td>2021-07-19 09:37:20</td>\n",
       "      <td>325</td>\n",
       "    </tr>\n",
       "    <tr>\n",
       "      <th>1</th>\n",
       "      <td>2000200150022</td>\n",
       "      <td>1351</td>\n",
       "      <td>1</td>\n",
       "      <td>2021-12-07 20:25:21</td>\n",
       "      <td>184</td>\n",
       "    </tr>\n",
       "    <tr>\n",
       "      <th>2</th>\n",
       "      <td>2000200150053</td>\n",
       "      <td>713</td>\n",
       "      <td>2</td>\n",
       "      <td>2022-03-17 20:50:23</td>\n",
       "      <td>84</td>\n",
       "    </tr>\n",
       "    <tr>\n",
       "      <th>3</th>\n",
       "      <td>2000200150091</td>\n",
       "      <td>3549</td>\n",
       "      <td>5</td>\n",
       "      <td>2022-06-05 11:49:47</td>\n",
       "      <td>4</td>\n",
       "    </tr>\n",
       "    <tr>\n",
       "      <th>4</th>\n",
       "      <td>2000200150107</td>\n",
       "      <td>1735</td>\n",
       "      <td>3</td>\n",
       "      <td>2022-06-02 17:54:19</td>\n",
       "      <td>7</td>\n",
       "    </tr>\n",
       "    <tr>\n",
       "      <th>...</th>\n",
       "      <td>...</td>\n",
       "      <td>...</td>\n",
       "      <td>...</td>\n",
       "      <td>...</td>\n",
       "      <td>...</td>\n",
       "    </tr>\n",
       "    <tr>\n",
       "      <th>5921</th>\n",
       "      <td>2000200259015</td>\n",
       "      <td>664</td>\n",
       "      <td>1</td>\n",
       "      <td>2022-06-07 17:08:45</td>\n",
       "      <td>2</td>\n",
       "    </tr>\n",
       "    <tr>\n",
       "      <th>5922</th>\n",
       "      <td>2000200259381</td>\n",
       "      <td>245</td>\n",
       "      <td>1</td>\n",
       "      <td>2022-06-07 19:19:12</td>\n",
       "      <td>2</td>\n",
       "    </tr>\n",
       "    <tr>\n",
       "      <th>5923</th>\n",
       "      <td>2000200259398</td>\n",
       "      <td>395</td>\n",
       "      <td>1</td>\n",
       "      <td>2022-06-07 19:37:59</td>\n",
       "      <td>2</td>\n",
       "    </tr>\n",
       "    <tr>\n",
       "      <th>5924</th>\n",
       "      <td>2000200259404</td>\n",
       "      <td>784</td>\n",
       "      <td>1</td>\n",
       "      <td>2022-06-08 09:46:52</td>\n",
       "      <td>1</td>\n",
       "    </tr>\n",
       "    <tr>\n",
       "      <th>5925</th>\n",
       "      <td>2000200259435</td>\n",
       "      <td>2431</td>\n",
       "      <td>1</td>\n",
       "      <td>2022-06-01 12:34:41</td>\n",
       "      <td>8</td>\n",
       "    </tr>\n",
       "  </tbody>\n",
       "</table>\n",
       "<p>5926 rows × 5 columns</p>\n",
       "</div>"
      ],
      "text/plain": [
       "               card  purchase_sum  purchase_amount       last_purchase  \\\n",
       "0     2000200150015            21                1 2021-07-19 09:37:20   \n",
       "1     2000200150022          1351                1 2021-12-07 20:25:21   \n",
       "2     2000200150053           713                2 2022-03-17 20:50:23   \n",
       "3     2000200150091          3549                5 2022-06-05 11:49:47   \n",
       "4     2000200150107          1735                3 2022-06-02 17:54:19   \n",
       "...             ...           ...              ...                 ...   \n",
       "5921  2000200259015           664                1 2022-06-07 17:08:45   \n",
       "5922  2000200259381           245                1 2022-06-07 19:19:12   \n",
       "5923  2000200259398           395                1 2022-06-07 19:37:59   \n",
       "5924  2000200259404           784                1 2022-06-08 09:46:52   \n",
       "5925  2000200259435          2431                1 2022-06-01 12:34:41   \n",
       "\n",
       "      days_since_last_purchase  \n",
       "0                          325  \n",
       "1                          184  \n",
       "2                           84  \n",
       "3                            4  \n",
       "4                            7  \n",
       "...                        ...  \n",
       "5921                         2  \n",
       "5922                         2  \n",
       "5923                         2  \n",
       "5924                         1  \n",
       "5925                         8  \n",
       "\n",
       "[5926 rows x 5 columns]"
      ]
     },
     "execution_count": 49,
     "metadata": {},
     "output_type": "execute_result"
    }
   ],
   "source": [
    "df2"
   ]
  },
  {
   "cell_type": "markdown",
   "id": "93f2be38",
   "metadata": {},
   "source": [
    "Далее считаем собственно Recency, Frequency, Monetary"
   ]
  },
  {
   "cell_type": "code",
   "execution_count": 57,
   "id": "ddb48e46",
   "metadata": {},
   "outputs": [],
   "source": [
    "#создаём функцию\n",
    "def set_score(val, var, perc_33, perc_66):\n",
    "  if val < perc_33:\n",
    "    return 3 if var != 'R' else 1\n",
    "  elif val < perc_66:\n",
    "    return 2\n",
    "  else:\n",
    "    return 1 if var != 'R' else 3\n",
    "#создаём переменные\n",
    "recency_quantiles = df2['days_since_last_purchase'].quantile(quantiles)\n",
    "df2['R'] = df2['days_since_last_purchase'].apply(set_score, args=('R', recency_quantiles.iloc[0], recency_quantiles.iloc[1]))\n",
    "\n",
    "frequency_quantiles = df2['purchase_amount'].quantile(quantiles)\n",
    "df2['F'] = df2['purchase_amount'].apply(set_score, args=('F', frequency_quantiles.iloc[0], frequency_quantiles.iloc[1]))\n",
    "\n",
    "monetary_quantiles = df2['purchase_sum'].quantile(quantiles)\n",
    "df2['M'] = df2['purchase_sum'].apply(set_score, args=('M', monetary_quantiles.iloc[0], monetary_quantiles.iloc[1]))"
   ]
  },
  {
   "cell_type": "markdown",
   "id": "29969e86",
   "metadata": {},
   "source": [
    "Этот код определяет функцию set_score, которая принимает четыре аргумента: val, var, perc_33 и perc_66. Функция set_score используется для присвоения оценки (3, 2 или 1) в зависимости от значения val и квантилей perc_33 и perc_66. Если значение val меньше perc_33, то возвращается оценка 3 (или 1, если var равно 'R'). Если значение val меньше perc_66, то возвращается оценка 2. В остальных случаях возвращается оценка 1 (или 3, если var равно 'R').\n",
    "Затем код вычисляет квантили для столбцов 'days_since_last_purchase', 'purchase_amount' и 'purchase_sum' из DataFrame df2 с помощью метода quantile(quantiles). Далее, с помощью метода apply и функции set_score, оценки 'R', 'F' и 'M' вычисляются для каждой строки DataFrame df2 на основе соответствующих квантилей.\n",
    "Таким образом, после выполнения этого кода в DataFrame df2 будут добавлены столбцы 'R', 'F' и 'M' с оценками, вычисленными на основе квантилей и функции set_score."
   ]
  },
  {
   "cell_type": "code",
   "execution_count": 59,
   "id": "a313d9d9",
   "metadata": {},
   "outputs": [
    {
     "data": {
      "text/html": [
       "<div>\n",
       "<style scoped>\n",
       "    .dataframe tbody tr th:only-of-type {\n",
       "        vertical-align: middle;\n",
       "    }\n",
       "\n",
       "    .dataframe tbody tr th {\n",
       "        vertical-align: top;\n",
       "    }\n",
       "\n",
       "    .dataframe thead th {\n",
       "        text-align: right;\n",
       "    }\n",
       "</style>\n",
       "<table border=\"1\" class=\"dataframe\">\n",
       "  <thead>\n",
       "    <tr style=\"text-align: right;\">\n",
       "      <th></th>\n",
       "      <th>card</th>\n",
       "      <th>purchase_sum</th>\n",
       "      <th>purchase_amount</th>\n",
       "      <th>last_purchase</th>\n",
       "      <th>days_since_last_purchase</th>\n",
       "      <th>R</th>\n",
       "      <th>F</th>\n",
       "      <th>M</th>\n",
       "      <th>RFM</th>\n",
       "    </tr>\n",
       "  </thead>\n",
       "  <tbody>\n",
       "    <tr>\n",
       "      <th>0</th>\n",
       "      <td>2000200150015</td>\n",
       "      <td>21</td>\n",
       "      <td>1</td>\n",
       "      <td>2021-07-19 09:37:20</td>\n",
       "      <td>325</td>\n",
       "      <td>3</td>\n",
       "      <td>2</td>\n",
       "      <td>3</td>\n",
       "      <td>323</td>\n",
       "    </tr>\n",
       "    <tr>\n",
       "      <th>1</th>\n",
       "      <td>2000200150022</td>\n",
       "      <td>1351</td>\n",
       "      <td>1</td>\n",
       "      <td>2021-12-07 20:25:21</td>\n",
       "      <td>184</td>\n",
       "      <td>3</td>\n",
       "      <td>2</td>\n",
       "      <td>2</td>\n",
       "      <td>322</td>\n",
       "    </tr>\n",
       "    <tr>\n",
       "      <th>2</th>\n",
       "      <td>2000200150053</td>\n",
       "      <td>713</td>\n",
       "      <td>2</td>\n",
       "      <td>2022-03-17 20:50:23</td>\n",
       "      <td>84</td>\n",
       "      <td>2</td>\n",
       "      <td>2</td>\n",
       "      <td>3</td>\n",
       "      <td>223</td>\n",
       "    </tr>\n",
       "    <tr>\n",
       "      <th>3</th>\n",
       "      <td>2000200150091</td>\n",
       "      <td>3549</td>\n",
       "      <td>5</td>\n",
       "      <td>2022-06-05 11:49:47</td>\n",
       "      <td>4</td>\n",
       "      <td>1</td>\n",
       "      <td>1</td>\n",
       "      <td>1</td>\n",
       "      <td>111</td>\n",
       "    </tr>\n",
       "    <tr>\n",
       "      <th>4</th>\n",
       "      <td>2000200150107</td>\n",
       "      <td>1735</td>\n",
       "      <td>3</td>\n",
       "      <td>2022-06-02 17:54:19</td>\n",
       "      <td>7</td>\n",
       "      <td>1</td>\n",
       "      <td>1</td>\n",
       "      <td>2</td>\n",
       "      <td>112</td>\n",
       "    </tr>\n",
       "    <tr>\n",
       "      <th>...</th>\n",
       "      <td>...</td>\n",
       "      <td>...</td>\n",
       "      <td>...</td>\n",
       "      <td>...</td>\n",
       "      <td>...</td>\n",
       "      <td>...</td>\n",
       "      <td>...</td>\n",
       "      <td>...</td>\n",
       "      <td>...</td>\n",
       "    </tr>\n",
       "    <tr>\n",
       "      <th>5921</th>\n",
       "      <td>2000200259015</td>\n",
       "      <td>664</td>\n",
       "      <td>1</td>\n",
       "      <td>2022-06-07 17:08:45</td>\n",
       "      <td>2</td>\n",
       "      <td>1</td>\n",
       "      <td>2</td>\n",
       "      <td>3</td>\n",
       "      <td>123</td>\n",
       "    </tr>\n",
       "    <tr>\n",
       "      <th>5922</th>\n",
       "      <td>2000200259381</td>\n",
       "      <td>245</td>\n",
       "      <td>1</td>\n",
       "      <td>2022-06-07 19:19:12</td>\n",
       "      <td>2</td>\n",
       "      <td>1</td>\n",
       "      <td>2</td>\n",
       "      <td>3</td>\n",
       "      <td>123</td>\n",
       "    </tr>\n",
       "    <tr>\n",
       "      <th>5923</th>\n",
       "      <td>2000200259398</td>\n",
       "      <td>395</td>\n",
       "      <td>1</td>\n",
       "      <td>2022-06-07 19:37:59</td>\n",
       "      <td>2</td>\n",
       "      <td>1</td>\n",
       "      <td>2</td>\n",
       "      <td>3</td>\n",
       "      <td>123</td>\n",
       "    </tr>\n",
       "    <tr>\n",
       "      <th>5924</th>\n",
       "      <td>2000200259404</td>\n",
       "      <td>784</td>\n",
       "      <td>1</td>\n",
       "      <td>2022-06-08 09:46:52</td>\n",
       "      <td>1</td>\n",
       "      <td>1</td>\n",
       "      <td>2</td>\n",
       "      <td>3</td>\n",
       "      <td>123</td>\n",
       "    </tr>\n",
       "    <tr>\n",
       "      <th>5925</th>\n",
       "      <td>2000200259435</td>\n",
       "      <td>2431</td>\n",
       "      <td>1</td>\n",
       "      <td>2022-06-01 12:34:41</td>\n",
       "      <td>8</td>\n",
       "      <td>1</td>\n",
       "      <td>2</td>\n",
       "      <td>1</td>\n",
       "      <td>121</td>\n",
       "    </tr>\n",
       "  </tbody>\n",
       "</table>\n",
       "<p>5926 rows × 9 columns</p>\n",
       "</div>"
      ],
      "text/plain": [
       "               card  purchase_sum  purchase_amount       last_purchase  \\\n",
       "0     2000200150015            21                1 2021-07-19 09:37:20   \n",
       "1     2000200150022          1351                1 2021-12-07 20:25:21   \n",
       "2     2000200150053           713                2 2022-03-17 20:50:23   \n",
       "3     2000200150091          3549                5 2022-06-05 11:49:47   \n",
       "4     2000200150107          1735                3 2022-06-02 17:54:19   \n",
       "...             ...           ...              ...                 ...   \n",
       "5921  2000200259015           664                1 2022-06-07 17:08:45   \n",
       "5922  2000200259381           245                1 2022-06-07 19:19:12   \n",
       "5923  2000200259398           395                1 2022-06-07 19:37:59   \n",
       "5924  2000200259404           784                1 2022-06-08 09:46:52   \n",
       "5925  2000200259435          2431                1 2022-06-01 12:34:41   \n",
       "\n",
       "      days_since_last_purchase  R  F  M  RFM  \n",
       "0                          325  3  2  3  323  \n",
       "1                          184  3  2  2  322  \n",
       "2                           84  2  2  3  223  \n",
       "3                            4  1  1  1  111  \n",
       "4                            7  1  1  2  112  \n",
       "...                        ... .. .. ..  ...  \n",
       "5921                         2  1  2  3  123  \n",
       "5922                         2  1  2  3  123  \n",
       "5923                         2  1  2  3  123  \n",
       "5924                         1  1  2  3  123  \n",
       "5925                         8  1  2  1  121  \n",
       "\n",
       "[5926 rows x 9 columns]"
      ]
     },
     "execution_count": 59,
     "metadata": {},
     "output_type": "execute_result"
    }
   ],
   "source": [
    "df2"
   ]
  },
  {
   "cell_type": "code",
   "execution_count": 52,
   "id": "6e104673",
   "metadata": {},
   "outputs": [],
   "source": [
    "df2['RFM'] = df2.apply(lambda row: f\"{row['R']}{row['F']}{row['M']}\", axis=1)"
   ]
  },
  {
   "cell_type": "markdown",
   "id": "f8627762",
   "metadata": {},
   "source": [
    "Этот код создает новый столбец 'RFM' в DataFrame df2, который содержит комбинацию значений из столбцов 'R', 'F' и 'M' для каждой строки.\n",
    "Функция apply() используется для применения лямбда-функции к каждой строке DataFrame. Лямбда-функция принимает аргумент row, который представляет собой строку DataFrame, и возвращает строку, составленную из значений столбцов 'R', 'F' и 'M' для этой строки.\n",
    "Таким образом, после выполнения этой строки кода в DataFrame df2 будет добавлен новый столбец 'RFM', содержащий комбинацию значений 'R', 'F' и 'M' для каждой строки.\n"
   ]
  },
  {
   "cell_type": "code",
   "execution_count": 60,
   "id": "2bffc75e",
   "metadata": {},
   "outputs": [
    {
     "data": {
      "text/html": [
       "<div>\n",
       "<style scoped>\n",
       "    .dataframe tbody tr th:only-of-type {\n",
       "        vertical-align: middle;\n",
       "    }\n",
       "\n",
       "    .dataframe tbody tr th {\n",
       "        vertical-align: top;\n",
       "    }\n",
       "\n",
       "    .dataframe thead th {\n",
       "        text-align: right;\n",
       "    }\n",
       "</style>\n",
       "<table border=\"1\" class=\"dataframe\">\n",
       "  <thead>\n",
       "    <tr style=\"text-align: right;\">\n",
       "      <th></th>\n",
       "      <th>card</th>\n",
       "      <th>purchase_sum</th>\n",
       "      <th>purchase_amount</th>\n",
       "      <th>last_purchase</th>\n",
       "      <th>days_since_last_purchase</th>\n",
       "      <th>R</th>\n",
       "      <th>F</th>\n",
       "      <th>M</th>\n",
       "      <th>RFM</th>\n",
       "    </tr>\n",
       "  </thead>\n",
       "  <tbody>\n",
       "    <tr>\n",
       "      <th>0</th>\n",
       "      <td>2000200150015</td>\n",
       "      <td>21</td>\n",
       "      <td>1</td>\n",
       "      <td>2021-07-19 09:37:20</td>\n",
       "      <td>325</td>\n",
       "      <td>3</td>\n",
       "      <td>2</td>\n",
       "      <td>3</td>\n",
       "      <td>323</td>\n",
       "    </tr>\n",
       "    <tr>\n",
       "      <th>1</th>\n",
       "      <td>2000200150022</td>\n",
       "      <td>1351</td>\n",
       "      <td>1</td>\n",
       "      <td>2021-12-07 20:25:21</td>\n",
       "      <td>184</td>\n",
       "      <td>3</td>\n",
       "      <td>2</td>\n",
       "      <td>2</td>\n",
       "      <td>322</td>\n",
       "    </tr>\n",
       "    <tr>\n",
       "      <th>2</th>\n",
       "      <td>2000200150053</td>\n",
       "      <td>713</td>\n",
       "      <td>2</td>\n",
       "      <td>2022-03-17 20:50:23</td>\n",
       "      <td>84</td>\n",
       "      <td>2</td>\n",
       "      <td>2</td>\n",
       "      <td>3</td>\n",
       "      <td>223</td>\n",
       "    </tr>\n",
       "    <tr>\n",
       "      <th>3</th>\n",
       "      <td>2000200150091</td>\n",
       "      <td>3549</td>\n",
       "      <td>5</td>\n",
       "      <td>2022-06-05 11:49:47</td>\n",
       "      <td>4</td>\n",
       "      <td>1</td>\n",
       "      <td>1</td>\n",
       "      <td>1</td>\n",
       "      <td>111</td>\n",
       "    </tr>\n",
       "    <tr>\n",
       "      <th>4</th>\n",
       "      <td>2000200150107</td>\n",
       "      <td>1735</td>\n",
       "      <td>3</td>\n",
       "      <td>2022-06-02 17:54:19</td>\n",
       "      <td>7</td>\n",
       "      <td>1</td>\n",
       "      <td>1</td>\n",
       "      <td>2</td>\n",
       "      <td>112</td>\n",
       "    </tr>\n",
       "    <tr>\n",
       "      <th>...</th>\n",
       "      <td>...</td>\n",
       "      <td>...</td>\n",
       "      <td>...</td>\n",
       "      <td>...</td>\n",
       "      <td>...</td>\n",
       "      <td>...</td>\n",
       "      <td>...</td>\n",
       "      <td>...</td>\n",
       "      <td>...</td>\n",
       "    </tr>\n",
       "    <tr>\n",
       "      <th>5921</th>\n",
       "      <td>2000200259015</td>\n",
       "      <td>664</td>\n",
       "      <td>1</td>\n",
       "      <td>2022-06-07 17:08:45</td>\n",
       "      <td>2</td>\n",
       "      <td>1</td>\n",
       "      <td>2</td>\n",
       "      <td>3</td>\n",
       "      <td>123</td>\n",
       "    </tr>\n",
       "    <tr>\n",
       "      <th>5922</th>\n",
       "      <td>2000200259381</td>\n",
       "      <td>245</td>\n",
       "      <td>1</td>\n",
       "      <td>2022-06-07 19:19:12</td>\n",
       "      <td>2</td>\n",
       "      <td>1</td>\n",
       "      <td>2</td>\n",
       "      <td>3</td>\n",
       "      <td>123</td>\n",
       "    </tr>\n",
       "    <tr>\n",
       "      <th>5923</th>\n",
       "      <td>2000200259398</td>\n",
       "      <td>395</td>\n",
       "      <td>1</td>\n",
       "      <td>2022-06-07 19:37:59</td>\n",
       "      <td>2</td>\n",
       "      <td>1</td>\n",
       "      <td>2</td>\n",
       "      <td>3</td>\n",
       "      <td>123</td>\n",
       "    </tr>\n",
       "    <tr>\n",
       "      <th>5924</th>\n",
       "      <td>2000200259404</td>\n",
       "      <td>784</td>\n",
       "      <td>1</td>\n",
       "      <td>2022-06-08 09:46:52</td>\n",
       "      <td>1</td>\n",
       "      <td>1</td>\n",
       "      <td>2</td>\n",
       "      <td>3</td>\n",
       "      <td>123</td>\n",
       "    </tr>\n",
       "    <tr>\n",
       "      <th>5925</th>\n",
       "      <td>2000200259435</td>\n",
       "      <td>2431</td>\n",
       "      <td>1</td>\n",
       "      <td>2022-06-01 12:34:41</td>\n",
       "      <td>8</td>\n",
       "      <td>1</td>\n",
       "      <td>2</td>\n",
       "      <td>1</td>\n",
       "      <td>121</td>\n",
       "    </tr>\n",
       "  </tbody>\n",
       "</table>\n",
       "<p>5926 rows × 9 columns</p>\n",
       "</div>"
      ],
      "text/plain": [
       "               card  purchase_sum  purchase_amount       last_purchase  \\\n",
       "0     2000200150015            21                1 2021-07-19 09:37:20   \n",
       "1     2000200150022          1351                1 2021-12-07 20:25:21   \n",
       "2     2000200150053           713                2 2022-03-17 20:50:23   \n",
       "3     2000200150091          3549                5 2022-06-05 11:49:47   \n",
       "4     2000200150107          1735                3 2022-06-02 17:54:19   \n",
       "...             ...           ...              ...                 ...   \n",
       "5921  2000200259015           664                1 2022-06-07 17:08:45   \n",
       "5922  2000200259381           245                1 2022-06-07 19:19:12   \n",
       "5923  2000200259398           395                1 2022-06-07 19:37:59   \n",
       "5924  2000200259404           784                1 2022-06-08 09:46:52   \n",
       "5925  2000200259435          2431                1 2022-06-01 12:34:41   \n",
       "\n",
       "      days_since_last_purchase  R  F  M  RFM  \n",
       "0                          325  3  2  3  323  \n",
       "1                          184  3  2  2  322  \n",
       "2                           84  2  2  3  223  \n",
       "3                            4  1  1  1  111  \n",
       "4                            7  1  1  2  112  \n",
       "...                        ... .. .. ..  ...  \n",
       "5921                         2  1  2  3  123  \n",
       "5922                         2  1  2  3  123  \n",
       "5923                         2  1  2  3  123  \n",
       "5924                         1  1  2  3  123  \n",
       "5925                         8  1  2  1  121  \n",
       "\n",
       "[5926 rows x 9 columns]"
      ]
     },
     "execution_count": 60,
     "metadata": {},
     "output_type": "execute_result"
    }
   ],
   "source": [
    "df2"
   ]
  },
  {
   "cell_type": "code",
   "execution_count": 54,
   "id": "bcaba42a",
   "metadata": {},
   "outputs": [],
   "source": [
    "import plotly.express as px #подгружаем библиотеку"
   ]
  },
  {
   "cell_type": "code",
   "execution_count": 55,
   "id": "d5208a93",
   "metadata": {},
   "outputs": [
    {
     "data": {
      "text/html": [
       "<div>\n",
       "<style scoped>\n",
       "    .dataframe tbody tr th:only-of-type {\n",
       "        vertical-align: middle;\n",
       "    }\n",
       "\n",
       "    .dataframe tbody tr th {\n",
       "        vertical-align: top;\n",
       "    }\n",
       "\n",
       "    .dataframe thead th {\n",
       "        text-align: right;\n",
       "    }\n",
       "</style>\n",
       "<table border=\"1\" class=\"dataframe\">\n",
       "  <thead>\n",
       "    <tr style=\"text-align: right;\">\n",
       "      <th></th>\n",
       "      <th>RFM</th>\n",
       "      <th>count</th>\n",
       "    </tr>\n",
       "  </thead>\n",
       "  <tbody>\n",
       "    <tr>\n",
       "      <th>0</th>\n",
       "      <td>111</td>\n",
       "      <td>862</td>\n",
       "    </tr>\n",
       "    <tr>\n",
       "      <th>1</th>\n",
       "      <td>112</td>\n",
       "      <td>203</td>\n",
       "    </tr>\n",
       "    <tr>\n",
       "      <th>2</th>\n",
       "      <td>113</td>\n",
       "      <td>32</td>\n",
       "    </tr>\n",
       "    <tr>\n",
       "      <th>3</th>\n",
       "      <td>121</td>\n",
       "      <td>118</td>\n",
       "    </tr>\n",
       "    <tr>\n",
       "      <th>4</th>\n",
       "      <td>122</td>\n",
       "      <td>340</td>\n",
       "    </tr>\n",
       "    <tr>\n",
       "      <th>5</th>\n",
       "      <td>123</td>\n",
       "      <td>395</td>\n",
       "    </tr>\n",
       "    <tr>\n",
       "      <th>6</th>\n",
       "      <td>211</td>\n",
       "      <td>488</td>\n",
       "    </tr>\n",
       "    <tr>\n",
       "      <th>7</th>\n",
       "      <td>212</td>\n",
       "      <td>223</td>\n",
       "    </tr>\n",
       "    <tr>\n",
       "      <th>8</th>\n",
       "      <td>213</td>\n",
       "      <td>34</td>\n",
       "    </tr>\n",
       "    <tr>\n",
       "      <th>9</th>\n",
       "      <td>221</td>\n",
       "      <td>176</td>\n",
       "    </tr>\n",
       "    <tr>\n",
       "      <th>10</th>\n",
       "      <td>222</td>\n",
       "      <td>461</td>\n",
       "    </tr>\n",
       "    <tr>\n",
       "      <th>11</th>\n",
       "      <td>223</td>\n",
       "      <td>577</td>\n",
       "    </tr>\n",
       "    <tr>\n",
       "      <th>12</th>\n",
       "      <td>311</td>\n",
       "      <td>197</td>\n",
       "    </tr>\n",
       "    <tr>\n",
       "      <th>13</th>\n",
       "      <td>312</td>\n",
       "      <td>127</td>\n",
       "    </tr>\n",
       "    <tr>\n",
       "      <th>14</th>\n",
       "      <td>313</td>\n",
       "      <td>19</td>\n",
       "    </tr>\n",
       "    <tr>\n",
       "      <th>15</th>\n",
       "      <td>321</td>\n",
       "      <td>174</td>\n",
       "    </tr>\n",
       "    <tr>\n",
       "      <th>16</th>\n",
       "      <td>322</td>\n",
       "      <td>601</td>\n",
       "    </tr>\n",
       "    <tr>\n",
       "      <th>17</th>\n",
       "      <td>323</td>\n",
       "      <td>899</td>\n",
       "    </tr>\n",
       "  </tbody>\n",
       "</table>\n",
       "</div>"
      ],
      "text/plain": [
       "    RFM  count\n",
       "0   111    862\n",
       "1   112    203\n",
       "2   113     32\n",
       "3   121    118\n",
       "4   122    340\n",
       "5   123    395\n",
       "6   211    488\n",
       "7   212    223\n",
       "8   213     34\n",
       "9   221    176\n",
       "10  222    461\n",
       "11  223    577\n",
       "12  311    197\n",
       "13  312    127\n",
       "14  313     19\n",
       "15  321    174\n",
       "16  322    601\n",
       "17  323    899"
      ]
     },
     "execution_count": 55,
     "metadata": {},
     "output_type": "execute_result"
    }
   ],
   "source": [
    "df3 = df2.groupby('RFM')['RFM'].agg({'count'}).reset_index()\n",
    "df3"
   ]
  },
  {
   "cell_type": "markdown",
   "id": "1ee5453f",
   "metadata": {},
   "source": [
    "Этот код группирует DataFrame df2 по столбцу 'RFM', затем считает количество строк в каждой группе и сохраняет результат в новом DataFrame df3.\n",
    "Метод groupby('RFM') используется для группировки DataFrame по уникальным значениям в столбце 'RFM'. Затем метод agg({'count'}) применяется к столбцу 'RFM' для подсчета количества строк в каждой группе. Результат сохраняется в новом DataFrame df3.\n",
    "Наконец, метод reset_index() используется для сброса индекса в новом DataFrame df3, чтобы индексация начиналась с нуля.\n",
    "Таким образом, после выполнения этого кода в DataFrame df3 будут содержаться уникальные комбинации 'RFM' и количество строк в каждой группе.\n"
   ]
  },
  {
   "cell_type": "code",
   "execution_count": 61,
   "id": "981cb498",
   "metadata": {},
   "outputs": [
    {
     "data": {
      "application/vnd.plotly.v1+json": {
       "config": {
        "plotlyServerURL": "https://plot.ly"
       },
       "data": [
        {
         "branchvalues": "total",
         "domain": {
          "x": [
           0,
           1
          ],
          "y": [
           0,
           1
          ]
         },
         "hovertemplate": "labels=%{label}<br>count=%{value}<br>parent=%{parent}<br>id=%{id}<extra></extra>",
         "ids": [
          "111",
          "112",
          "113",
          "121",
          "122",
          "123",
          "211",
          "212",
          "213",
          "221",
          "222",
          "223",
          "311",
          "312",
          "313",
          "321",
          "322",
          "323"
         ],
         "labels": [
          "111",
          "112",
          "113",
          "121",
          "122",
          "123",
          "211",
          "212",
          "213",
          "221",
          "222",
          "223",
          "311",
          "312",
          "313",
          "321",
          "322",
          "323"
         ],
         "name": "",
         "parents": [
          "",
          "",
          "",
          "",
          "",
          "",
          "",
          "",
          "",
          "",
          "",
          "",
          "",
          "",
          "",
          "",
          "",
          ""
         ],
         "type": "treemap",
         "values": [
          862,
          203,
          32,
          118,
          340,
          395,
          488,
          223,
          34,
          176,
          461,
          577,
          197,
          127,
          19,
          174,
          601,
          899
         ]
        }
       ],
       "layout": {
        "legend": {
         "tracegroupgap": 0
        },
        "margin": {
         "t": 60
        },
        "template": {
         "data": {
          "bar": [
           {
            "error_x": {
             "color": "#2a3f5f"
            },
            "error_y": {
             "color": "#2a3f5f"
            },
            "marker": {
             "line": {
              "color": "#E5ECF6",
              "width": 0.5
             },
             "pattern": {
              "fillmode": "overlay",
              "size": 10,
              "solidity": 0.2
             }
            },
            "type": "bar"
           }
          ],
          "barpolar": [
           {
            "marker": {
             "line": {
              "color": "#E5ECF6",
              "width": 0.5
             },
             "pattern": {
              "fillmode": "overlay",
              "size": 10,
              "solidity": 0.2
             }
            },
            "type": "barpolar"
           }
          ],
          "carpet": [
           {
            "aaxis": {
             "endlinecolor": "#2a3f5f",
             "gridcolor": "white",
             "linecolor": "white",
             "minorgridcolor": "white",
             "startlinecolor": "#2a3f5f"
            },
            "baxis": {
             "endlinecolor": "#2a3f5f",
             "gridcolor": "white",
             "linecolor": "white",
             "minorgridcolor": "white",
             "startlinecolor": "#2a3f5f"
            },
            "type": "carpet"
           }
          ],
          "choropleth": [
           {
            "colorbar": {
             "outlinewidth": 0,
             "ticks": ""
            },
            "type": "choropleth"
           }
          ],
          "contour": [
           {
            "colorbar": {
             "outlinewidth": 0,
             "ticks": ""
            },
            "colorscale": [
             [
              0,
              "#0d0887"
             ],
             [
              0.1111111111111111,
              "#46039f"
             ],
             [
              0.2222222222222222,
              "#7201a8"
             ],
             [
              0.3333333333333333,
              "#9c179e"
             ],
             [
              0.4444444444444444,
              "#bd3786"
             ],
             [
              0.5555555555555556,
              "#d8576b"
             ],
             [
              0.6666666666666666,
              "#ed7953"
             ],
             [
              0.7777777777777778,
              "#fb9f3a"
             ],
             [
              0.8888888888888888,
              "#fdca26"
             ],
             [
              1,
              "#f0f921"
             ]
            ],
            "type": "contour"
           }
          ],
          "contourcarpet": [
           {
            "colorbar": {
             "outlinewidth": 0,
             "ticks": ""
            },
            "type": "contourcarpet"
           }
          ],
          "heatmap": [
           {
            "colorbar": {
             "outlinewidth": 0,
             "ticks": ""
            },
            "colorscale": [
             [
              0,
              "#0d0887"
             ],
             [
              0.1111111111111111,
              "#46039f"
             ],
             [
              0.2222222222222222,
              "#7201a8"
             ],
             [
              0.3333333333333333,
              "#9c179e"
             ],
             [
              0.4444444444444444,
              "#bd3786"
             ],
             [
              0.5555555555555556,
              "#d8576b"
             ],
             [
              0.6666666666666666,
              "#ed7953"
             ],
             [
              0.7777777777777778,
              "#fb9f3a"
             ],
             [
              0.8888888888888888,
              "#fdca26"
             ],
             [
              1,
              "#f0f921"
             ]
            ],
            "type": "heatmap"
           }
          ],
          "heatmapgl": [
           {
            "colorbar": {
             "outlinewidth": 0,
             "ticks": ""
            },
            "colorscale": [
             [
              0,
              "#0d0887"
             ],
             [
              0.1111111111111111,
              "#46039f"
             ],
             [
              0.2222222222222222,
              "#7201a8"
             ],
             [
              0.3333333333333333,
              "#9c179e"
             ],
             [
              0.4444444444444444,
              "#bd3786"
             ],
             [
              0.5555555555555556,
              "#d8576b"
             ],
             [
              0.6666666666666666,
              "#ed7953"
             ],
             [
              0.7777777777777778,
              "#fb9f3a"
             ],
             [
              0.8888888888888888,
              "#fdca26"
             ],
             [
              1,
              "#f0f921"
             ]
            ],
            "type": "heatmapgl"
           }
          ],
          "histogram": [
           {
            "marker": {
             "pattern": {
              "fillmode": "overlay",
              "size": 10,
              "solidity": 0.2
             }
            },
            "type": "histogram"
           }
          ],
          "histogram2d": [
           {
            "colorbar": {
             "outlinewidth": 0,
             "ticks": ""
            },
            "colorscale": [
             [
              0,
              "#0d0887"
             ],
             [
              0.1111111111111111,
              "#46039f"
             ],
             [
              0.2222222222222222,
              "#7201a8"
             ],
             [
              0.3333333333333333,
              "#9c179e"
             ],
             [
              0.4444444444444444,
              "#bd3786"
             ],
             [
              0.5555555555555556,
              "#d8576b"
             ],
             [
              0.6666666666666666,
              "#ed7953"
             ],
             [
              0.7777777777777778,
              "#fb9f3a"
             ],
             [
              0.8888888888888888,
              "#fdca26"
             ],
             [
              1,
              "#f0f921"
             ]
            ],
            "type": "histogram2d"
           }
          ],
          "histogram2dcontour": [
           {
            "colorbar": {
             "outlinewidth": 0,
             "ticks": ""
            },
            "colorscale": [
             [
              0,
              "#0d0887"
             ],
             [
              0.1111111111111111,
              "#46039f"
             ],
             [
              0.2222222222222222,
              "#7201a8"
             ],
             [
              0.3333333333333333,
              "#9c179e"
             ],
             [
              0.4444444444444444,
              "#bd3786"
             ],
             [
              0.5555555555555556,
              "#d8576b"
             ],
             [
              0.6666666666666666,
              "#ed7953"
             ],
             [
              0.7777777777777778,
              "#fb9f3a"
             ],
             [
              0.8888888888888888,
              "#fdca26"
             ],
             [
              1,
              "#f0f921"
             ]
            ],
            "type": "histogram2dcontour"
           }
          ],
          "mesh3d": [
           {
            "colorbar": {
             "outlinewidth": 0,
             "ticks": ""
            },
            "type": "mesh3d"
           }
          ],
          "parcoords": [
           {
            "line": {
             "colorbar": {
              "outlinewidth": 0,
              "ticks": ""
             }
            },
            "type": "parcoords"
           }
          ],
          "pie": [
           {
            "automargin": true,
            "type": "pie"
           }
          ],
          "scatter": [
           {
            "fillpattern": {
             "fillmode": "overlay",
             "size": 10,
             "solidity": 0.2
            },
            "type": "scatter"
           }
          ],
          "scatter3d": [
           {
            "line": {
             "colorbar": {
              "outlinewidth": 0,
              "ticks": ""
             }
            },
            "marker": {
             "colorbar": {
              "outlinewidth": 0,
              "ticks": ""
             }
            },
            "type": "scatter3d"
           }
          ],
          "scattercarpet": [
           {
            "marker": {
             "colorbar": {
              "outlinewidth": 0,
              "ticks": ""
             }
            },
            "type": "scattercarpet"
           }
          ],
          "scattergeo": [
           {
            "marker": {
             "colorbar": {
              "outlinewidth": 0,
              "ticks": ""
             }
            },
            "type": "scattergeo"
           }
          ],
          "scattergl": [
           {
            "marker": {
             "colorbar": {
              "outlinewidth": 0,
              "ticks": ""
             }
            },
            "type": "scattergl"
           }
          ],
          "scattermapbox": [
           {
            "marker": {
             "colorbar": {
              "outlinewidth": 0,
              "ticks": ""
             }
            },
            "type": "scattermapbox"
           }
          ],
          "scatterpolar": [
           {
            "marker": {
             "colorbar": {
              "outlinewidth": 0,
              "ticks": ""
             }
            },
            "type": "scatterpolar"
           }
          ],
          "scatterpolargl": [
           {
            "marker": {
             "colorbar": {
              "outlinewidth": 0,
              "ticks": ""
             }
            },
            "type": "scatterpolargl"
           }
          ],
          "scatterternary": [
           {
            "marker": {
             "colorbar": {
              "outlinewidth": 0,
              "ticks": ""
             }
            },
            "type": "scatterternary"
           }
          ],
          "surface": [
           {
            "colorbar": {
             "outlinewidth": 0,
             "ticks": ""
            },
            "colorscale": [
             [
              0,
              "#0d0887"
             ],
             [
              0.1111111111111111,
              "#46039f"
             ],
             [
              0.2222222222222222,
              "#7201a8"
             ],
             [
              0.3333333333333333,
              "#9c179e"
             ],
             [
              0.4444444444444444,
              "#bd3786"
             ],
             [
              0.5555555555555556,
              "#d8576b"
             ],
             [
              0.6666666666666666,
              "#ed7953"
             ],
             [
              0.7777777777777778,
              "#fb9f3a"
             ],
             [
              0.8888888888888888,
              "#fdca26"
             ],
             [
              1,
              "#f0f921"
             ]
            ],
            "type": "surface"
           }
          ],
          "table": [
           {
            "cells": {
             "fill": {
              "color": "#EBF0F8"
             },
             "line": {
              "color": "white"
             }
            },
            "header": {
             "fill": {
              "color": "#C8D4E3"
             },
             "line": {
              "color": "white"
             }
            },
            "type": "table"
           }
          ]
         },
         "layout": {
          "annotationdefaults": {
           "arrowcolor": "#2a3f5f",
           "arrowhead": 0,
           "arrowwidth": 1
          },
          "autotypenumbers": "strict",
          "coloraxis": {
           "colorbar": {
            "outlinewidth": 0,
            "ticks": ""
           }
          },
          "colorscale": {
           "diverging": [
            [
             0,
             "#8e0152"
            ],
            [
             0.1,
             "#c51b7d"
            ],
            [
             0.2,
             "#de77ae"
            ],
            [
             0.3,
             "#f1b6da"
            ],
            [
             0.4,
             "#fde0ef"
            ],
            [
             0.5,
             "#f7f7f7"
            ],
            [
             0.6,
             "#e6f5d0"
            ],
            [
             0.7,
             "#b8e186"
            ],
            [
             0.8,
             "#7fbc41"
            ],
            [
             0.9,
             "#4d9221"
            ],
            [
             1,
             "#276419"
            ]
           ],
           "sequential": [
            [
             0,
             "#0d0887"
            ],
            [
             0.1111111111111111,
             "#46039f"
            ],
            [
             0.2222222222222222,
             "#7201a8"
            ],
            [
             0.3333333333333333,
             "#9c179e"
            ],
            [
             0.4444444444444444,
             "#bd3786"
            ],
            [
             0.5555555555555556,
             "#d8576b"
            ],
            [
             0.6666666666666666,
             "#ed7953"
            ],
            [
             0.7777777777777778,
             "#fb9f3a"
            ],
            [
             0.8888888888888888,
             "#fdca26"
            ],
            [
             1,
             "#f0f921"
            ]
           ],
           "sequentialminus": [
            [
             0,
             "#0d0887"
            ],
            [
             0.1111111111111111,
             "#46039f"
            ],
            [
             0.2222222222222222,
             "#7201a8"
            ],
            [
             0.3333333333333333,
             "#9c179e"
            ],
            [
             0.4444444444444444,
             "#bd3786"
            ],
            [
             0.5555555555555556,
             "#d8576b"
            ],
            [
             0.6666666666666666,
             "#ed7953"
            ],
            [
             0.7777777777777778,
             "#fb9f3a"
            ],
            [
             0.8888888888888888,
             "#fdca26"
            ],
            [
             1,
             "#f0f921"
            ]
           ]
          },
          "colorway": [
           "#636efa",
           "#EF553B",
           "#00cc96",
           "#ab63fa",
           "#FFA15A",
           "#19d3f3",
           "#FF6692",
           "#B6E880",
           "#FF97FF",
           "#FECB52"
          ],
          "font": {
           "color": "#2a3f5f"
          },
          "geo": {
           "bgcolor": "white",
           "lakecolor": "white",
           "landcolor": "#E5ECF6",
           "showlakes": true,
           "showland": true,
           "subunitcolor": "white"
          },
          "hoverlabel": {
           "align": "left"
          },
          "hovermode": "closest",
          "mapbox": {
           "style": "light"
          },
          "paper_bgcolor": "white",
          "plot_bgcolor": "#E5ECF6",
          "polar": {
           "angularaxis": {
            "gridcolor": "white",
            "linecolor": "white",
            "ticks": ""
           },
           "bgcolor": "#E5ECF6",
           "radialaxis": {
            "gridcolor": "white",
            "linecolor": "white",
            "ticks": ""
           }
          },
          "scene": {
           "xaxis": {
            "backgroundcolor": "#E5ECF6",
            "gridcolor": "white",
            "gridwidth": 2,
            "linecolor": "white",
            "showbackground": true,
            "ticks": "",
            "zerolinecolor": "white"
           },
           "yaxis": {
            "backgroundcolor": "#E5ECF6",
            "gridcolor": "white",
            "gridwidth": 2,
            "linecolor": "white",
            "showbackground": true,
            "ticks": "",
            "zerolinecolor": "white"
           },
           "zaxis": {
            "backgroundcolor": "#E5ECF6",
            "gridcolor": "white",
            "gridwidth": 2,
            "linecolor": "white",
            "showbackground": true,
            "ticks": "",
            "zerolinecolor": "white"
           }
          },
          "shapedefaults": {
           "line": {
            "color": "#2a3f5f"
           }
          },
          "ternary": {
           "aaxis": {
            "gridcolor": "white",
            "linecolor": "white",
            "ticks": ""
           },
           "baxis": {
            "gridcolor": "white",
            "linecolor": "white",
            "ticks": ""
           },
           "bgcolor": "#E5ECF6",
           "caxis": {
            "gridcolor": "white",
            "linecolor": "white",
            "ticks": ""
           }
          },
          "title": {
           "x": 0.05
          },
          "xaxis": {
           "automargin": true,
           "gridcolor": "white",
           "linecolor": "white",
           "ticks": "",
           "title": {
            "standoff": 15
           },
           "zerolinecolor": "white",
           "zerolinewidth": 2
          },
          "yaxis": {
           "automargin": true,
           "gridcolor": "white",
           "linecolor": "white",
           "ticks": "",
           "title": {
            "standoff": 15
           },
           "zerolinecolor": "white",
           "zerolinewidth": 2
          }
         }
        }
       }
      },
      "text/html": [
       "<div>                            <div id=\"e9f9520b-06e4-4e08-a020-456a33f47259\" class=\"plotly-graph-div\" style=\"height:525px; width:100%;\"></div>            <script type=\"text/javascript\">                require([\"plotly\"], function(Plotly) {                    window.PLOTLYENV=window.PLOTLYENV || {};                                    if (document.getElementById(\"e9f9520b-06e4-4e08-a020-456a33f47259\")) {                    Plotly.newPlot(                        \"e9f9520b-06e4-4e08-a020-456a33f47259\",                        [{\"branchvalues\":\"total\",\"domain\":{\"x\":[0.0,1.0],\"y\":[0.0,1.0]},\"hovertemplate\":\"labels=%{label}<br>count=%{value}<br>parent=%{parent}<br>id=%{id}<extra></extra>\",\"ids\":[\"111\",\"112\",\"113\",\"121\",\"122\",\"123\",\"211\",\"212\",\"213\",\"221\",\"222\",\"223\",\"311\",\"312\",\"313\",\"321\",\"322\",\"323\"],\"labels\":[\"111\",\"112\",\"113\",\"121\",\"122\",\"123\",\"211\",\"212\",\"213\",\"221\",\"222\",\"223\",\"311\",\"312\",\"313\",\"321\",\"322\",\"323\"],\"name\":\"\",\"parents\":[\"\",\"\",\"\",\"\",\"\",\"\",\"\",\"\",\"\",\"\",\"\",\"\",\"\",\"\",\"\",\"\",\"\",\"\"],\"values\":[862,203,32,118,340,395,488,223,34,176,461,577,197,127,19,174,601,899],\"type\":\"treemap\"}],                        {\"template\":{\"data\":{\"histogram2dcontour\":[{\"type\":\"histogram2dcontour\",\"colorbar\":{\"outlinewidth\":0,\"ticks\":\"\"},\"colorscale\":[[0.0,\"#0d0887\"],[0.1111111111111111,\"#46039f\"],[0.2222222222222222,\"#7201a8\"],[0.3333333333333333,\"#9c179e\"],[0.4444444444444444,\"#bd3786\"],[0.5555555555555556,\"#d8576b\"],[0.6666666666666666,\"#ed7953\"],[0.7777777777777778,\"#fb9f3a\"],[0.8888888888888888,\"#fdca26\"],[1.0,\"#f0f921\"]]}],\"choropleth\":[{\"type\":\"choropleth\",\"colorbar\":{\"outlinewidth\":0,\"ticks\":\"\"}}],\"histogram2d\":[{\"type\":\"histogram2d\",\"colorbar\":{\"outlinewidth\":0,\"ticks\":\"\"},\"colorscale\":[[0.0,\"#0d0887\"],[0.1111111111111111,\"#46039f\"],[0.2222222222222222,\"#7201a8\"],[0.3333333333333333,\"#9c179e\"],[0.4444444444444444,\"#bd3786\"],[0.5555555555555556,\"#d8576b\"],[0.6666666666666666,\"#ed7953\"],[0.7777777777777778,\"#fb9f3a\"],[0.8888888888888888,\"#fdca26\"],[1.0,\"#f0f921\"]]}],\"heatmap\":[{\"type\":\"heatmap\",\"colorbar\":{\"outlinewidth\":0,\"ticks\":\"\"},\"colorscale\":[[0.0,\"#0d0887\"],[0.1111111111111111,\"#46039f\"],[0.2222222222222222,\"#7201a8\"],[0.3333333333333333,\"#9c179e\"],[0.4444444444444444,\"#bd3786\"],[0.5555555555555556,\"#d8576b\"],[0.6666666666666666,\"#ed7953\"],[0.7777777777777778,\"#fb9f3a\"],[0.8888888888888888,\"#fdca26\"],[1.0,\"#f0f921\"]]}],\"heatmapgl\":[{\"type\":\"heatmapgl\",\"colorbar\":{\"outlinewidth\":0,\"ticks\":\"\"},\"colorscale\":[[0.0,\"#0d0887\"],[0.1111111111111111,\"#46039f\"],[0.2222222222222222,\"#7201a8\"],[0.3333333333333333,\"#9c179e\"],[0.4444444444444444,\"#bd3786\"],[0.5555555555555556,\"#d8576b\"],[0.6666666666666666,\"#ed7953\"],[0.7777777777777778,\"#fb9f3a\"],[0.8888888888888888,\"#fdca26\"],[1.0,\"#f0f921\"]]}],\"contourcarpet\":[{\"type\":\"contourcarpet\",\"colorbar\":{\"outlinewidth\":0,\"ticks\":\"\"}}],\"contour\":[{\"type\":\"contour\",\"colorbar\":{\"outlinewidth\":0,\"ticks\":\"\"},\"colorscale\":[[0.0,\"#0d0887\"],[0.1111111111111111,\"#46039f\"],[0.2222222222222222,\"#7201a8\"],[0.3333333333333333,\"#9c179e\"],[0.4444444444444444,\"#bd3786\"],[0.5555555555555556,\"#d8576b\"],[0.6666666666666666,\"#ed7953\"],[0.7777777777777778,\"#fb9f3a\"],[0.8888888888888888,\"#fdca26\"],[1.0,\"#f0f921\"]]}],\"surface\":[{\"type\":\"surface\",\"colorbar\":{\"outlinewidth\":0,\"ticks\":\"\"},\"colorscale\":[[0.0,\"#0d0887\"],[0.1111111111111111,\"#46039f\"],[0.2222222222222222,\"#7201a8\"],[0.3333333333333333,\"#9c179e\"],[0.4444444444444444,\"#bd3786\"],[0.5555555555555556,\"#d8576b\"],[0.6666666666666666,\"#ed7953\"],[0.7777777777777778,\"#fb9f3a\"],[0.8888888888888888,\"#fdca26\"],[1.0,\"#f0f921\"]]}],\"mesh3d\":[{\"type\":\"mesh3d\",\"colorbar\":{\"outlinewidth\":0,\"ticks\":\"\"}}],\"scatter\":[{\"fillpattern\":{\"fillmode\":\"overlay\",\"size\":10,\"solidity\":0.2},\"type\":\"scatter\"}],\"parcoords\":[{\"type\":\"parcoords\",\"line\":{\"colorbar\":{\"outlinewidth\":0,\"ticks\":\"\"}}}],\"scatterpolargl\":[{\"type\":\"scatterpolargl\",\"marker\":{\"colorbar\":{\"outlinewidth\":0,\"ticks\":\"\"}}}],\"bar\":[{\"error_x\":{\"color\":\"#2a3f5f\"},\"error_y\":{\"color\":\"#2a3f5f\"},\"marker\":{\"line\":{\"color\":\"#E5ECF6\",\"width\":0.5},\"pattern\":{\"fillmode\":\"overlay\",\"size\":10,\"solidity\":0.2}},\"type\":\"bar\"}],\"scattergeo\":[{\"type\":\"scattergeo\",\"marker\":{\"colorbar\":{\"outlinewidth\":0,\"ticks\":\"\"}}}],\"scatterpolar\":[{\"type\":\"scatterpolar\",\"marker\":{\"colorbar\":{\"outlinewidth\":0,\"ticks\":\"\"}}}],\"histogram\":[{\"marker\":{\"pattern\":{\"fillmode\":\"overlay\",\"size\":10,\"solidity\":0.2}},\"type\":\"histogram\"}],\"scattergl\":[{\"type\":\"scattergl\",\"marker\":{\"colorbar\":{\"outlinewidth\":0,\"ticks\":\"\"}}}],\"scatter3d\":[{\"type\":\"scatter3d\",\"line\":{\"colorbar\":{\"outlinewidth\":0,\"ticks\":\"\"}},\"marker\":{\"colorbar\":{\"outlinewidth\":0,\"ticks\":\"\"}}}],\"scattermapbox\":[{\"type\":\"scattermapbox\",\"marker\":{\"colorbar\":{\"outlinewidth\":0,\"ticks\":\"\"}}}],\"scatterternary\":[{\"type\":\"scatterternary\",\"marker\":{\"colorbar\":{\"outlinewidth\":0,\"ticks\":\"\"}}}],\"scattercarpet\":[{\"type\":\"scattercarpet\",\"marker\":{\"colorbar\":{\"outlinewidth\":0,\"ticks\":\"\"}}}],\"carpet\":[{\"aaxis\":{\"endlinecolor\":\"#2a3f5f\",\"gridcolor\":\"white\",\"linecolor\":\"white\",\"minorgridcolor\":\"white\",\"startlinecolor\":\"#2a3f5f\"},\"baxis\":{\"endlinecolor\":\"#2a3f5f\",\"gridcolor\":\"white\",\"linecolor\":\"white\",\"minorgridcolor\":\"white\",\"startlinecolor\":\"#2a3f5f\"},\"type\":\"carpet\"}],\"table\":[{\"cells\":{\"fill\":{\"color\":\"#EBF0F8\"},\"line\":{\"color\":\"white\"}},\"header\":{\"fill\":{\"color\":\"#C8D4E3\"},\"line\":{\"color\":\"white\"}},\"type\":\"table\"}],\"barpolar\":[{\"marker\":{\"line\":{\"color\":\"#E5ECF6\",\"width\":0.5},\"pattern\":{\"fillmode\":\"overlay\",\"size\":10,\"solidity\":0.2}},\"type\":\"barpolar\"}],\"pie\":[{\"automargin\":true,\"type\":\"pie\"}]},\"layout\":{\"autotypenumbers\":\"strict\",\"colorway\":[\"#636efa\",\"#EF553B\",\"#00cc96\",\"#ab63fa\",\"#FFA15A\",\"#19d3f3\",\"#FF6692\",\"#B6E880\",\"#FF97FF\",\"#FECB52\"],\"font\":{\"color\":\"#2a3f5f\"},\"hovermode\":\"closest\",\"hoverlabel\":{\"align\":\"left\"},\"paper_bgcolor\":\"white\",\"plot_bgcolor\":\"#E5ECF6\",\"polar\":{\"bgcolor\":\"#E5ECF6\",\"angularaxis\":{\"gridcolor\":\"white\",\"linecolor\":\"white\",\"ticks\":\"\"},\"radialaxis\":{\"gridcolor\":\"white\",\"linecolor\":\"white\",\"ticks\":\"\"}},\"ternary\":{\"bgcolor\":\"#E5ECF6\",\"aaxis\":{\"gridcolor\":\"white\",\"linecolor\":\"white\",\"ticks\":\"\"},\"baxis\":{\"gridcolor\":\"white\",\"linecolor\":\"white\",\"ticks\":\"\"},\"caxis\":{\"gridcolor\":\"white\",\"linecolor\":\"white\",\"ticks\":\"\"}},\"coloraxis\":{\"colorbar\":{\"outlinewidth\":0,\"ticks\":\"\"}},\"colorscale\":{\"sequential\":[[0.0,\"#0d0887\"],[0.1111111111111111,\"#46039f\"],[0.2222222222222222,\"#7201a8\"],[0.3333333333333333,\"#9c179e\"],[0.4444444444444444,\"#bd3786\"],[0.5555555555555556,\"#d8576b\"],[0.6666666666666666,\"#ed7953\"],[0.7777777777777778,\"#fb9f3a\"],[0.8888888888888888,\"#fdca26\"],[1.0,\"#f0f921\"]],\"sequentialminus\":[[0.0,\"#0d0887\"],[0.1111111111111111,\"#46039f\"],[0.2222222222222222,\"#7201a8\"],[0.3333333333333333,\"#9c179e\"],[0.4444444444444444,\"#bd3786\"],[0.5555555555555556,\"#d8576b\"],[0.6666666666666666,\"#ed7953\"],[0.7777777777777778,\"#fb9f3a\"],[0.8888888888888888,\"#fdca26\"],[1.0,\"#f0f921\"]],\"diverging\":[[0,\"#8e0152\"],[0.1,\"#c51b7d\"],[0.2,\"#de77ae\"],[0.3,\"#f1b6da\"],[0.4,\"#fde0ef\"],[0.5,\"#f7f7f7\"],[0.6,\"#e6f5d0\"],[0.7,\"#b8e186\"],[0.8,\"#7fbc41\"],[0.9,\"#4d9221\"],[1,\"#276419\"]]},\"xaxis\":{\"gridcolor\":\"white\",\"linecolor\":\"white\",\"ticks\":\"\",\"title\":{\"standoff\":15},\"zerolinecolor\":\"white\",\"automargin\":true,\"zerolinewidth\":2},\"yaxis\":{\"gridcolor\":\"white\",\"linecolor\":\"white\",\"ticks\":\"\",\"title\":{\"standoff\":15},\"zerolinecolor\":\"white\",\"automargin\":true,\"zerolinewidth\":2},\"scene\":{\"xaxis\":{\"backgroundcolor\":\"#E5ECF6\",\"gridcolor\":\"white\",\"linecolor\":\"white\",\"showbackground\":true,\"ticks\":\"\",\"zerolinecolor\":\"white\",\"gridwidth\":2},\"yaxis\":{\"backgroundcolor\":\"#E5ECF6\",\"gridcolor\":\"white\",\"linecolor\":\"white\",\"showbackground\":true,\"ticks\":\"\",\"zerolinecolor\":\"white\",\"gridwidth\":2},\"zaxis\":{\"backgroundcolor\":\"#E5ECF6\",\"gridcolor\":\"white\",\"linecolor\":\"white\",\"showbackground\":true,\"ticks\":\"\",\"zerolinecolor\":\"white\",\"gridwidth\":2}},\"shapedefaults\":{\"line\":{\"color\":\"#2a3f5f\"}},\"annotationdefaults\":{\"arrowcolor\":\"#2a3f5f\",\"arrowhead\":0,\"arrowwidth\":1},\"geo\":{\"bgcolor\":\"white\",\"landcolor\":\"#E5ECF6\",\"subunitcolor\":\"white\",\"showland\":true,\"showlakes\":true,\"lakecolor\":\"white\"},\"title\":{\"x\":0.05},\"mapbox\":{\"style\":\"light\"}}},\"legend\":{\"tracegroupgap\":0},\"margin\":{\"t\":60}},                        {\"responsive\": true}                    ).then(function(){\n",
       "                            \n",
       "var gd = document.getElementById('e9f9520b-06e4-4e08-a020-456a33f47259');\n",
       "var x = new MutationObserver(function (mutations, observer) {{\n",
       "        var display = window.getComputedStyle(gd).display;\n",
       "        if (!display || display === 'none') {{\n",
       "            console.log([gd, 'removed!']);\n",
       "            Plotly.purge(gd);\n",
       "            observer.disconnect();\n",
       "        }}\n",
       "}});\n",
       "\n",
       "// Listen for the removal of the full notebook cells\n",
       "var notebookContainer = gd.closest('#notebook-container');\n",
       "if (notebookContainer) {{\n",
       "    x.observe(notebookContainer, {childList: true});\n",
       "}}\n",
       "\n",
       "// Listen for the clearing of the current output cell\n",
       "var outputEl = gd.closest('.output');\n",
       "if (outputEl) {{\n",
       "    x.observe(outputEl, {childList: true});\n",
       "}}\n",
       "\n",
       "                        })                };                });            </script>        </div>"
      ]
     },
     "metadata": {},
     "output_type": "display_data"
    }
   ],
   "source": [
    "px.treemap(df3, path=['RFM'], values='count')"
   ]
  },
  {
   "cell_type": "markdown",
   "id": "7a1dd54b",
   "metadata": {},
   "source": [
    "Этот код использует библиотеку Plotly Express для создания древовидной диаграммы (treemap) на основе данных из DataFrame df3.\n",
    "Метод px.treemap() принимает DataFrame df3 в качестве данных, аргумент path=['RFM'] указывает, что значения столбца 'RFM' будут использоваться для построения иерархии в древовидной диаграмме. Аргумент values='count' указывает, что количество строк в каждой группе будет использоваться для определения размера прямоугольников в древовидной диаграмме.\n",
    "После выполнения этой строки кода будет построена древовидная диаграмма, отображающая уникальные комбинации 'RFM' и количество строк в каждой группе. Размер прямоугольников будет отражать количество строк в каждой группе.\n"
   ]
  }
 ],
 "metadata": {
  "kernelspec": {
   "display_name": "Python 3 (ipykernel)",
   "language": "python",
   "name": "python3"
  },
  "language_info": {
   "codemirror_mode": {
    "name": "ipython",
    "version": 3
   },
   "file_extension": ".py",
   "mimetype": "text/x-python",
   "name": "python",
   "nbconvert_exporter": "python",
   "pygments_lexer": "ipython3",
   "version": "3.11.5"
  }
 },
 "nbformat": 4,
 "nbformat_minor": 5
}
